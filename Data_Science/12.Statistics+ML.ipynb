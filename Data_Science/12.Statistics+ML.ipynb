{
  "nbformat": 4,
  "nbformat_minor": 0,
  "metadata": {
    "kernelspec": {
      "display_name": "Python 3",
      "language": "python",
      "name": "python3"
    },
    "language_info": {
      "codemirror_mode": {
        "name": "ipython",
        "version": 3
      },
      "file_extension": ".py",
      "mimetype": "text/x-python",
      "name": "python",
      "nbconvert_exporter": "python",
      "pygments_lexer": "ipython3",
      "version": "3.6.3"
    },
    "colab": {
      "name": "12.Statistics+ML.ipynb",
      "version": "0.3.2",
      "provenance": []
    }
  },
  "cells": [
    {
      "cell_type": "markdown",
      "metadata": {
        "id": "265lQSRDFTl8",
        "colab_type": "text"
      },
      "source": [
        "# Stats+Machine Learning\n",
        "\n",
        "- Basic statistics(basic)\n",
        "- Regression analysis and outliers(regression)\n",
        "- Tests of independence(independence)\n",
        "- Analysis of variance(anova)\n",
        "- Machine learning(machine)"
      ]
    },
    {
      "cell_type": "markdown",
      "metadata": {
        "id": "CM-PDkmYFTl9",
        "colab_type": "text"
      },
      "source": [
        "# 1)- Importing key libraries"
      ]
    },
    {
      "cell_type": "code",
      "metadata": {
        "id": "sPyOOZvMFTl-",
        "colab_type": "code",
        "colab": {}
      },
      "source": [
        "#support both Python 2 and Python 3 with minimal overhead.\n",
        "from __future__ import absolute_import, division, print_function"
      ],
      "execution_count": 0,
      "outputs": []
    },
    {
      "cell_type": "code",
      "metadata": {
        "id": "MMQ5WHdpFTmA",
        "colab_type": "code",
        "colab": {}
      },
      "source": [
        "# I am an engineer. I care only about error not warning. So, let's be maverick and ignore warnings.\n",
        "import warnings\n",
        "warnings.filterwarnings('ignore')"
      ],
      "execution_count": 0,
      "outputs": []
    },
    {
      "cell_type": "code",
      "metadata": {
        "id": "MrKanfLTFfbo",
        "colab_type": "code",
        "colab": {
          "base_uri": "https://localhost:8080/",
          "height": 70
        },
        "outputId": "c79f06bf-48e7-4d02-cdcd-9c60db045fde"
      },
      "source": [
        "! pip install outliers"
      ],
      "execution_count": 3,
      "outputs": [
        {
          "output_type": "stream",
          "text": [
            "Collecting outliers\n",
            "\u001b[31m  ERROR: Could not find a version that satisfies the requirement outliers (from versions: none)\u001b[0m\n",
            "\u001b[31mERROR: No matching distribution found for outliers\u001b[0m\n"
          ],
          "name": "stdout"
        }
      ]
    },
    {
      "cell_type": "code",
      "metadata": {
        "id": "Qcc7csOOFTmD",
        "colab_type": "code",
        "colab": {}
      },
      "source": [
        "# import required packages\n",
        "import pandas as pd\n",
        "import numpy as np\n",
        "import scipy\n",
        "# for visuals\n",
        "import matplotlib.pyplot as plt\n",
        "import seaborn as sns\n",
        "%matplotlib inline"
      ],
      "execution_count": 0,
      "outputs": []
    },
    {
      "cell_type": "code",
      "metadata": {
        "id": "p6GaEFMwGSpO",
        "colab_type": "code",
        "colab": {}
      },
      "source": [
        "#Smirnov Grubbs Tests\n",
        "import smirnov_grubbs as grubbs"
      ],
      "execution_count": 0,
      "outputs": []
    },
    {
      "cell_type": "markdown",
      "metadata": {
        "id": "U6Koh2_hFTmG",
        "colab_type": "text"
      },
      "source": [
        "# 2)- Loading data"
      ]
    },
    {
      "cell_type": "code",
      "metadata": {
        "id": "_2qM5radFTmG",
        "colab_type": "code",
        "colab": {}
      },
      "source": [
        "# format the data: covert to datetime, average precipitation per month, get month and year, reset index\n",
        "df = pd.read_csv('la_jolla_precip_monthly.csv')\n"
      ],
      "execution_count": 0,
      "outputs": []
    },
    {
      "cell_type": "code",
      "metadata": {
        "id": "Vr7uGw9WFTmI",
        "colab_type": "code",
        "colab": {
          "base_uri": "https://localhost:8080/",
          "height": 197
        },
        "outputId": "f59ab890-d52d-4dea-bbc7-faa91adb095d"
      },
      "source": [
        "df.head()"
      ],
      "execution_count": 7,
      "outputs": [
        {
          "output_type": "execute_result",
          "data": {
            "text/html": [
              "<div>\n",
              "<style scoped>\n",
              "    .dataframe tbody tr th:only-of-type {\n",
              "        vertical-align: middle;\n",
              "    }\n",
              "\n",
              "    .dataframe tbody tr th {\n",
              "        vertical-align: top;\n",
              "    }\n",
              "\n",
              "    .dataframe thead th {\n",
              "        text-align: right;\n",
              "    }\n",
              "</style>\n",
              "<table border=\"1\" class=\"dataframe\">\n",
              "  <thead>\n",
              "    <tr style=\"text-align: right;\">\n",
              "      <th></th>\n",
              "      <th>STATION</th>\n",
              "      <th>NAME</th>\n",
              "      <th>LATITUDE</th>\n",
              "      <th>LONGITUDE</th>\n",
              "      <th>ELEVATION</th>\n",
              "      <th>DATE</th>\n",
              "      <th>PRCP</th>\n",
              "      <th>PRCP_ATTRIBUTES</th>\n",
              "    </tr>\n",
              "  </thead>\n",
              "  <tbody>\n",
              "    <tr>\n",
              "      <th>0</th>\n",
              "      <td>US1CASD0015</td>\n",
              "      <td>LA JOLLA 2.5SE, CA US</td>\n",
              "      <td>32.8254</td>\n",
              "      <td>-117.2397</td>\n",
              "      <td>154.8</td>\n",
              "      <td>2008-12</td>\n",
              "      <td>112.4</td>\n",
              "      <td>,,,N</td>\n",
              "    </tr>\n",
              "    <tr>\n",
              "      <th>1</th>\n",
              "      <td>US1CASD0015</td>\n",
              "      <td>LA JOLLA 2.5SE, CA US</td>\n",
              "      <td>32.8254</td>\n",
              "      <td>-117.2397</td>\n",
              "      <td>154.8</td>\n",
              "      <td>2009-01</td>\n",
              "      <td>6.9</td>\n",
              "      <td>,,,N</td>\n",
              "    </tr>\n",
              "    <tr>\n",
              "      <th>2</th>\n",
              "      <td>US1CASD0015</td>\n",
              "      <td>LA JOLLA 2.5SE, CA US</td>\n",
              "      <td>32.8254</td>\n",
              "      <td>-117.2397</td>\n",
              "      <td>154.8</td>\n",
              "      <td>2009-02</td>\n",
              "      <td>72.6</td>\n",
              "      <td>,,,N</td>\n",
              "    </tr>\n",
              "    <tr>\n",
              "      <th>3</th>\n",
              "      <td>US1CASD0015</td>\n",
              "      <td>LA JOLLA 2.5SE, CA US</td>\n",
              "      <td>32.8254</td>\n",
              "      <td>-117.2397</td>\n",
              "      <td>154.8</td>\n",
              "      <td>2009-03</td>\n",
              "      <td>6.1</td>\n",
              "      <td>,,,N</td>\n",
              "    </tr>\n",
              "    <tr>\n",
              "      <th>4</th>\n",
              "      <td>US1CASD0015</td>\n",
              "      <td>LA JOLLA 2.5SE, CA US</td>\n",
              "      <td>32.8254</td>\n",
              "      <td>-117.2397</td>\n",
              "      <td>154.8</td>\n",
              "      <td>2009-04</td>\n",
              "      <td>1.8</td>\n",
              "      <td>,,,N</td>\n",
              "    </tr>\n",
              "  </tbody>\n",
              "</table>\n",
              "</div>"
            ],
            "text/plain": [
              "       STATION                   NAME  LATITUDE  ...     DATE   PRCP PRCP_ATTRIBUTES\n",
              "0  US1CASD0015  LA JOLLA 2.5SE, CA US   32.8254  ...  2008-12  112.4            ,,,N\n",
              "1  US1CASD0015  LA JOLLA 2.5SE, CA US   32.8254  ...  2009-01    6.9            ,,,N\n",
              "2  US1CASD0015  LA JOLLA 2.5SE, CA US   32.8254  ...  2009-02   72.6            ,,,N\n",
              "3  US1CASD0015  LA JOLLA 2.5SE, CA US   32.8254  ...  2009-03    6.1            ,,,N\n",
              "4  US1CASD0015  LA JOLLA 2.5SE, CA US   32.8254  ...  2009-04    1.8            ,,,N\n",
              "\n",
              "[5 rows x 8 columns]"
            ]
          },
          "metadata": {
            "tags": []
          },
          "execution_count": 7
        }
      ]
    },
    {
      "cell_type": "code",
      "metadata": {
        "id": "VHTFrxpPFTmJ",
        "colab_type": "code",
        "colab": {}
      },
      "source": [
        "df = pd.read_csv('la_jolla_precip_monthly.csv')"
      ],
      "execution_count": 0,
      "outputs": []
    },
    {
      "cell_type": "code",
      "metadata": {
        "id": "quv6bzAhFTmL",
        "colab_type": "code",
        "colab": {}
      },
      "source": [
        "df['DATE'] = pd.to_datetime(df['DATE'])\n",
        "df = df.groupby('DATE').mean()\n",
        "df['MONTH'] = [x.month for x in df.index]\n",
        "df['YEAR'] = [x.year for x in df.index]\n",
        "df.reset_index(inplace=True)"
      ],
      "execution_count": 0,
      "outputs": []
    },
    {
      "cell_type": "code",
      "metadata": {
        "id": "6mPTi32eFTmN",
        "colab_type": "code",
        "colab": {
          "base_uri": "https://localhost:8080/",
          "height": 197
        },
        "outputId": "b2c5e29b-afe6-4c77-bda5-637fa6457564"
      },
      "source": [
        "df.head()"
      ],
      "execution_count": 10,
      "outputs": [
        {
          "output_type": "execute_result",
          "data": {
            "text/html": [
              "<div>\n",
              "<style scoped>\n",
              "    .dataframe tbody tr th:only-of-type {\n",
              "        vertical-align: middle;\n",
              "    }\n",
              "\n",
              "    .dataframe tbody tr th {\n",
              "        vertical-align: top;\n",
              "    }\n",
              "\n",
              "    .dataframe thead th {\n",
              "        text-align: right;\n",
              "    }\n",
              "</style>\n",
              "<table border=\"1\" class=\"dataframe\">\n",
              "  <thead>\n",
              "    <tr style=\"text-align: right;\">\n",
              "      <th></th>\n",
              "      <th>DATE</th>\n",
              "      <th>LATITUDE</th>\n",
              "      <th>LONGITUDE</th>\n",
              "      <th>ELEVATION</th>\n",
              "      <th>PRCP</th>\n",
              "      <th>MONTH</th>\n",
              "      <th>YEAR</th>\n",
              "    </tr>\n",
              "  </thead>\n",
              "  <tbody>\n",
              "    <tr>\n",
              "      <th>0</th>\n",
              "      <td>2008-12-01</td>\n",
              "      <td>32.82540</td>\n",
              "      <td>-117.2397</td>\n",
              "      <td>154.80</td>\n",
              "      <td>112.40</td>\n",
              "      <td>12</td>\n",
              "      <td>2008</td>\n",
              "    </tr>\n",
              "    <tr>\n",
              "      <th>1</th>\n",
              "      <td>2009-01-01</td>\n",
              "      <td>32.82540</td>\n",
              "      <td>-117.2397</td>\n",
              "      <td>154.80</td>\n",
              "      <td>6.90</td>\n",
              "      <td>1</td>\n",
              "      <td>2009</td>\n",
              "    </tr>\n",
              "    <tr>\n",
              "      <th>2</th>\n",
              "      <td>2009-02-01</td>\n",
              "      <td>32.82540</td>\n",
              "      <td>-117.2397</td>\n",
              "      <td>154.80</td>\n",
              "      <td>72.60</td>\n",
              "      <td>2</td>\n",
              "      <td>2009</td>\n",
              "    </tr>\n",
              "    <tr>\n",
              "      <th>3</th>\n",
              "      <td>2009-03-01</td>\n",
              "      <td>32.82555</td>\n",
              "      <td>-117.2449</td>\n",
              "      <td>152.25</td>\n",
              "      <td>6.10</td>\n",
              "      <td>3</td>\n",
              "      <td>2009</td>\n",
              "    </tr>\n",
              "    <tr>\n",
              "      <th>4</th>\n",
              "      <td>2009-04-01</td>\n",
              "      <td>32.82555</td>\n",
              "      <td>-117.2449</td>\n",
              "      <td>152.25</td>\n",
              "      <td>2.05</td>\n",
              "      <td>4</td>\n",
              "      <td>2009</td>\n",
              "    </tr>\n",
              "  </tbody>\n",
              "</table>\n",
              "</div>"
            ],
            "text/plain": [
              "        DATE  LATITUDE  LONGITUDE  ELEVATION    PRCP  MONTH  YEAR\n",
              "0 2008-12-01  32.82540  -117.2397     154.80  112.40     12  2008\n",
              "1 2009-01-01  32.82540  -117.2397     154.80    6.90      1  2009\n",
              "2 2009-02-01  32.82540  -117.2397     154.80   72.60      2  2009\n",
              "3 2009-03-01  32.82555  -117.2449     152.25    6.10      3  2009\n",
              "4 2009-04-01  32.82555  -117.2449     152.25    2.05      4  2009"
            ]
          },
          "metadata": {
            "tags": []
          },
          "execution_count": 10
        }
      ]
    },
    {
      "cell_type": "code",
      "metadata": {
        "id": "dD1Y3301FTmP",
        "colab_type": "code",
        "colab": {
          "base_uri": "https://localhost:8080/",
          "height": 1000
        },
        "outputId": "a9730338-305f-4a13-fd3f-d14269431715"
      },
      "source": [
        "df\n"
      ],
      "execution_count": 11,
      "outputs": [
        {
          "output_type": "execute_result",
          "data": {
            "text/html": [
              "<div>\n",
              "<style scoped>\n",
              "    .dataframe tbody tr th:only-of-type {\n",
              "        vertical-align: middle;\n",
              "    }\n",
              "\n",
              "    .dataframe tbody tr th {\n",
              "        vertical-align: top;\n",
              "    }\n",
              "\n",
              "    .dataframe thead th {\n",
              "        text-align: right;\n",
              "    }\n",
              "</style>\n",
              "<table border=\"1\" class=\"dataframe\">\n",
              "  <thead>\n",
              "    <tr style=\"text-align: right;\">\n",
              "      <th></th>\n",
              "      <th>DATE</th>\n",
              "      <th>LATITUDE</th>\n",
              "      <th>LONGITUDE</th>\n",
              "      <th>ELEVATION</th>\n",
              "      <th>PRCP</th>\n",
              "      <th>MONTH</th>\n",
              "      <th>YEAR</th>\n",
              "    </tr>\n",
              "  </thead>\n",
              "  <tbody>\n",
              "    <tr>\n",
              "      <th>0</th>\n",
              "      <td>2008-12-01</td>\n",
              "      <td>32.825400</td>\n",
              "      <td>-117.239700</td>\n",
              "      <td>154.80</td>\n",
              "      <td>112.400000</td>\n",
              "      <td>12</td>\n",
              "      <td>2008</td>\n",
              "    </tr>\n",
              "    <tr>\n",
              "      <th>1</th>\n",
              "      <td>2009-01-01</td>\n",
              "      <td>32.825400</td>\n",
              "      <td>-117.239700</td>\n",
              "      <td>154.80</td>\n",
              "      <td>6.900000</td>\n",
              "      <td>1</td>\n",
              "      <td>2009</td>\n",
              "    </tr>\n",
              "    <tr>\n",
              "      <th>2</th>\n",
              "      <td>2009-02-01</td>\n",
              "      <td>32.825400</td>\n",
              "      <td>-117.239700</td>\n",
              "      <td>154.80</td>\n",
              "      <td>72.600000</td>\n",
              "      <td>2</td>\n",
              "      <td>2009</td>\n",
              "    </tr>\n",
              "    <tr>\n",
              "      <th>3</th>\n",
              "      <td>2009-03-01</td>\n",
              "      <td>32.825550</td>\n",
              "      <td>-117.244900</td>\n",
              "      <td>152.25</td>\n",
              "      <td>6.100000</td>\n",
              "      <td>3</td>\n",
              "      <td>2009</td>\n",
              "    </tr>\n",
              "    <tr>\n",
              "      <th>4</th>\n",
              "      <td>2009-04-01</td>\n",
              "      <td>32.825550</td>\n",
              "      <td>-117.244900</td>\n",
              "      <td>152.25</td>\n",
              "      <td>2.050000</td>\n",
              "      <td>4</td>\n",
              "      <td>2009</td>\n",
              "    </tr>\n",
              "    <tr>\n",
              "      <th>5</th>\n",
              "      <td>2009-05-01</td>\n",
              "      <td>32.825550</td>\n",
              "      <td>-117.244900</td>\n",
              "      <td>152.25</td>\n",
              "      <td>4.850000</td>\n",
              "      <td>5</td>\n",
              "      <td>2009</td>\n",
              "    </tr>\n",
              "    <tr>\n",
              "      <th>6</th>\n",
              "      <td>2009-06-01</td>\n",
              "      <td>32.825550</td>\n",
              "      <td>-117.244900</td>\n",
              "      <td>152.25</td>\n",
              "      <td>3.850000</td>\n",
              "      <td>6</td>\n",
              "      <td>2009</td>\n",
              "    </tr>\n",
              "    <tr>\n",
              "      <th>7</th>\n",
              "      <td>2009-07-01</td>\n",
              "      <td>32.825550</td>\n",
              "      <td>-117.244900</td>\n",
              "      <td>152.25</td>\n",
              "      <td>0.000000</td>\n",
              "      <td>7</td>\n",
              "      <td>2009</td>\n",
              "    </tr>\n",
              "    <tr>\n",
              "      <th>8</th>\n",
              "      <td>2009-08-01</td>\n",
              "      <td>32.825550</td>\n",
              "      <td>-117.244900</td>\n",
              "      <td>152.25</td>\n",
              "      <td>0.400000</td>\n",
              "      <td>8</td>\n",
              "      <td>2009</td>\n",
              "    </tr>\n",
              "    <tr>\n",
              "      <th>9</th>\n",
              "      <td>2009-09-01</td>\n",
              "      <td>32.825550</td>\n",
              "      <td>-117.244900</td>\n",
              "      <td>152.25</td>\n",
              "      <td>0.550000</td>\n",
              "      <td>9</td>\n",
              "      <td>2009</td>\n",
              "    </tr>\n",
              "    <tr>\n",
              "      <th>10</th>\n",
              "      <td>2009-10-01</td>\n",
              "      <td>32.825550</td>\n",
              "      <td>-117.244900</td>\n",
              "      <td>152.25</td>\n",
              "      <td>0.500000</td>\n",
              "      <td>10</td>\n",
              "      <td>2009</td>\n",
              "    </tr>\n",
              "    <tr>\n",
              "      <th>11</th>\n",
              "      <td>2009-11-01</td>\n",
              "      <td>32.840533</td>\n",
              "      <td>-117.245833</td>\n",
              "      <td>139.20</td>\n",
              "      <td>6.133333</td>\n",
              "      <td>11</td>\n",
              "      <td>2009</td>\n",
              "    </tr>\n",
              "    <tr>\n",
              "      <th>12</th>\n",
              "      <td>2009-12-01</td>\n",
              "      <td>32.825700</td>\n",
              "      <td>-117.250100</td>\n",
              "      <td>149.70</td>\n",
              "      <td>80.000000</td>\n",
              "      <td>12</td>\n",
              "      <td>2009</td>\n",
              "    </tr>\n",
              "    <tr>\n",
              "      <th>13</th>\n",
              "      <td>2010-01-01</td>\n",
              "      <td>32.840533</td>\n",
              "      <td>-117.245833</td>\n",
              "      <td>139.20</td>\n",
              "      <td>140.000000</td>\n",
              "      <td>1</td>\n",
              "      <td>2010</td>\n",
              "    </tr>\n",
              "    <tr>\n",
              "      <th>14</th>\n",
              "      <td>2010-02-01</td>\n",
              "      <td>32.840533</td>\n",
              "      <td>-117.245833</td>\n",
              "      <td>139.20</td>\n",
              "      <td>71.700000</td>\n",
              "      <td>2</td>\n",
              "      <td>2010</td>\n",
              "    </tr>\n",
              "    <tr>\n",
              "      <th>15</th>\n",
              "      <td>2010-03-01</td>\n",
              "      <td>32.840533</td>\n",
              "      <td>-117.245833</td>\n",
              "      <td>139.20</td>\n",
              "      <td>14.966667</td>\n",
              "      <td>3</td>\n",
              "      <td>2010</td>\n",
              "    </tr>\n",
              "    <tr>\n",
              "      <th>16</th>\n",
              "      <td>2010-04-01</td>\n",
              "      <td>32.840533</td>\n",
              "      <td>-117.245833</td>\n",
              "      <td>139.20</td>\n",
              "      <td>47.066667</td>\n",
              "      <td>4</td>\n",
              "      <td>2010</td>\n",
              "    </tr>\n",
              "    <tr>\n",
              "      <th>17</th>\n",
              "      <td>2010-05-01</td>\n",
              "      <td>32.840533</td>\n",
              "      <td>-117.245833</td>\n",
              "      <td>139.20</td>\n",
              "      <td>0.900000</td>\n",
              "      <td>5</td>\n",
              "      <td>2010</td>\n",
              "    </tr>\n",
              "    <tr>\n",
              "      <th>18</th>\n",
              "      <td>2010-06-01</td>\n",
              "      <td>32.825550</td>\n",
              "      <td>-117.244900</td>\n",
              "      <td>152.25</td>\n",
              "      <td>1.450000</td>\n",
              "      <td>6</td>\n",
              "      <td>2010</td>\n",
              "    </tr>\n",
              "    <tr>\n",
              "      <th>19</th>\n",
              "      <td>2010-07-01</td>\n",
              "      <td>32.825550</td>\n",
              "      <td>-117.244900</td>\n",
              "      <td>152.25</td>\n",
              "      <td>2.250000</td>\n",
              "      <td>7</td>\n",
              "      <td>2010</td>\n",
              "    </tr>\n",
              "    <tr>\n",
              "      <th>20</th>\n",
              "      <td>2010-08-01</td>\n",
              "      <td>32.825550</td>\n",
              "      <td>-117.244900</td>\n",
              "      <td>152.25</td>\n",
              "      <td>0.000000</td>\n",
              "      <td>8</td>\n",
              "      <td>2010</td>\n",
              "    </tr>\n",
              "    <tr>\n",
              "      <th>21</th>\n",
              "      <td>2010-09-01</td>\n",
              "      <td>32.840533</td>\n",
              "      <td>-117.245833</td>\n",
              "      <td>139.20</td>\n",
              "      <td>0.966667</td>\n",
              "      <td>9</td>\n",
              "      <td>2010</td>\n",
              "    </tr>\n",
              "    <tr>\n",
              "      <th>22</th>\n",
              "      <td>2010-10-01</td>\n",
              "      <td>32.825700</td>\n",
              "      <td>-117.250100</td>\n",
              "      <td>149.70</td>\n",
              "      <td>64.100000</td>\n",
              "      <td>10</td>\n",
              "      <td>2010</td>\n",
              "    </tr>\n",
              "    <tr>\n",
              "      <th>23</th>\n",
              "      <td>2010-11-01</td>\n",
              "      <td>32.840533</td>\n",
              "      <td>-117.245833</td>\n",
              "      <td>139.20</td>\n",
              "      <td>27.033333</td>\n",
              "      <td>11</td>\n",
              "      <td>2010</td>\n",
              "    </tr>\n",
              "    <tr>\n",
              "      <th>24</th>\n",
              "      <td>2010-12-01</td>\n",
              "      <td>32.825550</td>\n",
              "      <td>-117.244900</td>\n",
              "      <td>152.25</td>\n",
              "      <td>166.200000</td>\n",
              "      <td>12</td>\n",
              "      <td>2010</td>\n",
              "    </tr>\n",
              "    <tr>\n",
              "      <th>25</th>\n",
              "      <td>2011-01-01</td>\n",
              "      <td>32.840533</td>\n",
              "      <td>-117.245833</td>\n",
              "      <td>139.20</td>\n",
              "      <td>24.633333</td>\n",
              "      <td>1</td>\n",
              "      <td>2011</td>\n",
              "    </tr>\n",
              "    <tr>\n",
              "      <th>26</th>\n",
              "      <td>2011-02-01</td>\n",
              "      <td>32.840533</td>\n",
              "      <td>-117.245833</td>\n",
              "      <td>139.20</td>\n",
              "      <td>45.966667</td>\n",
              "      <td>2</td>\n",
              "      <td>2011</td>\n",
              "    </tr>\n",
              "    <tr>\n",
              "      <th>27</th>\n",
              "      <td>2011-03-01</td>\n",
              "      <td>32.840533</td>\n",
              "      <td>-117.245833</td>\n",
              "      <td>139.20</td>\n",
              "      <td>24.500000</td>\n",
              "      <td>3</td>\n",
              "      <td>2011</td>\n",
              "    </tr>\n",
              "    <tr>\n",
              "      <th>28</th>\n",
              "      <td>2011-04-01</td>\n",
              "      <td>32.825550</td>\n",
              "      <td>-117.244900</td>\n",
              "      <td>152.25</td>\n",
              "      <td>6.800000</td>\n",
              "      <td>4</td>\n",
              "      <td>2011</td>\n",
              "    </tr>\n",
              "    <tr>\n",
              "      <th>29</th>\n",
              "      <td>2011-05-01</td>\n",
              "      <td>32.840533</td>\n",
              "      <td>-117.245833</td>\n",
              "      <td>139.20</td>\n",
              "      <td>18.533333</td>\n",
              "      <td>5</td>\n",
              "      <td>2011</td>\n",
              "    </tr>\n",
              "    <tr>\n",
              "      <th>...</th>\n",
              "      <td>...</td>\n",
              "      <td>...</td>\n",
              "      <td>...</td>\n",
              "      <td>...</td>\n",
              "      <td>...</td>\n",
              "      <td>...</td>\n",
              "      <td>...</td>\n",
              "    </tr>\n",
              "    <tr>\n",
              "      <th>65</th>\n",
              "      <td>2014-05-01</td>\n",
              "      <td>32.840533</td>\n",
              "      <td>-117.245833</td>\n",
              "      <td>139.20</td>\n",
              "      <td>0.000000</td>\n",
              "      <td>5</td>\n",
              "      <td>2014</td>\n",
              "    </tr>\n",
              "    <tr>\n",
              "      <th>66</th>\n",
              "      <td>2014-06-01</td>\n",
              "      <td>32.825550</td>\n",
              "      <td>-117.244900</td>\n",
              "      <td>152.25</td>\n",
              "      <td>0.000000</td>\n",
              "      <td>6</td>\n",
              "      <td>2014</td>\n",
              "    </tr>\n",
              "    <tr>\n",
              "      <th>67</th>\n",
              "      <td>2014-07-01</td>\n",
              "      <td>32.825550</td>\n",
              "      <td>-117.244900</td>\n",
              "      <td>152.25</td>\n",
              "      <td>8.750000</td>\n",
              "      <td>7</td>\n",
              "      <td>2014</td>\n",
              "    </tr>\n",
              "    <tr>\n",
              "      <th>68</th>\n",
              "      <td>2014-08-01</td>\n",
              "      <td>32.825550</td>\n",
              "      <td>-117.244900</td>\n",
              "      <td>152.25</td>\n",
              "      <td>4.450000</td>\n",
              "      <td>8</td>\n",
              "      <td>2014</td>\n",
              "    </tr>\n",
              "    <tr>\n",
              "      <th>69</th>\n",
              "      <td>2014-09-01</td>\n",
              "      <td>32.825550</td>\n",
              "      <td>-117.244900</td>\n",
              "      <td>152.25</td>\n",
              "      <td>10.300000</td>\n",
              "      <td>9</td>\n",
              "      <td>2014</td>\n",
              "    </tr>\n",
              "    <tr>\n",
              "      <th>70</th>\n",
              "      <td>2014-10-01</td>\n",
              "      <td>32.825550</td>\n",
              "      <td>-117.244900</td>\n",
              "      <td>152.25</td>\n",
              "      <td>0.000000</td>\n",
              "      <td>10</td>\n",
              "      <td>2014</td>\n",
              "    </tr>\n",
              "    <tr>\n",
              "      <th>71</th>\n",
              "      <td>2014-11-01</td>\n",
              "      <td>32.825550</td>\n",
              "      <td>-117.244900</td>\n",
              "      <td>152.25</td>\n",
              "      <td>9.250000</td>\n",
              "      <td>11</td>\n",
              "      <td>2014</td>\n",
              "    </tr>\n",
              "    <tr>\n",
              "      <th>72</th>\n",
              "      <td>2014-12-01</td>\n",
              "      <td>32.825550</td>\n",
              "      <td>-117.244900</td>\n",
              "      <td>152.25</td>\n",
              "      <td>86.050000</td>\n",
              "      <td>12</td>\n",
              "      <td>2014</td>\n",
              "    </tr>\n",
              "    <tr>\n",
              "      <th>73</th>\n",
              "      <td>2015-01-01</td>\n",
              "      <td>32.825550</td>\n",
              "      <td>-117.244900</td>\n",
              "      <td>152.25</td>\n",
              "      <td>18.100000</td>\n",
              "      <td>1</td>\n",
              "      <td>2015</td>\n",
              "    </tr>\n",
              "    <tr>\n",
              "      <th>74</th>\n",
              "      <td>2015-02-01</td>\n",
              "      <td>32.825550</td>\n",
              "      <td>-117.244900</td>\n",
              "      <td>152.25</td>\n",
              "      <td>8.750000</td>\n",
              "      <td>2</td>\n",
              "      <td>2015</td>\n",
              "    </tr>\n",
              "    <tr>\n",
              "      <th>75</th>\n",
              "      <td>2015-03-01</td>\n",
              "      <td>32.825550</td>\n",
              "      <td>-117.244900</td>\n",
              "      <td>152.25</td>\n",
              "      <td>27.200000</td>\n",
              "      <td>3</td>\n",
              "      <td>2015</td>\n",
              "    </tr>\n",
              "    <tr>\n",
              "      <th>76</th>\n",
              "      <td>2015-04-01</td>\n",
              "      <td>32.825550</td>\n",
              "      <td>-117.244900</td>\n",
              "      <td>152.25</td>\n",
              "      <td>3.300000</td>\n",
              "      <td>4</td>\n",
              "      <td>2015</td>\n",
              "    </tr>\n",
              "    <tr>\n",
              "      <th>77</th>\n",
              "      <td>2015-05-01</td>\n",
              "      <td>32.825550</td>\n",
              "      <td>-117.244900</td>\n",
              "      <td>152.25</td>\n",
              "      <td>30.850000</td>\n",
              "      <td>5</td>\n",
              "      <td>2015</td>\n",
              "    </tr>\n",
              "    <tr>\n",
              "      <th>78</th>\n",
              "      <td>2015-06-01</td>\n",
              "      <td>32.825550</td>\n",
              "      <td>-117.244900</td>\n",
              "      <td>152.25</td>\n",
              "      <td>0.800000</td>\n",
              "      <td>6</td>\n",
              "      <td>2015</td>\n",
              "    </tr>\n",
              "    <tr>\n",
              "      <th>79</th>\n",
              "      <td>2015-07-01</td>\n",
              "      <td>32.825550</td>\n",
              "      <td>-117.244900</td>\n",
              "      <td>152.25</td>\n",
              "      <td>38.050000</td>\n",
              "      <td>7</td>\n",
              "      <td>2015</td>\n",
              "    </tr>\n",
              "    <tr>\n",
              "      <th>80</th>\n",
              "      <td>2015-08-01</td>\n",
              "      <td>32.825550</td>\n",
              "      <td>-117.244900</td>\n",
              "      <td>152.25</td>\n",
              "      <td>0.500000</td>\n",
              "      <td>8</td>\n",
              "      <td>2015</td>\n",
              "    </tr>\n",
              "    <tr>\n",
              "      <th>81</th>\n",
              "      <td>2015-09-01</td>\n",
              "      <td>32.825550</td>\n",
              "      <td>-117.244900</td>\n",
              "      <td>152.25</td>\n",
              "      <td>28.600000</td>\n",
              "      <td>9</td>\n",
              "      <td>2015</td>\n",
              "    </tr>\n",
              "    <tr>\n",
              "      <th>82</th>\n",
              "      <td>2015-10-01</td>\n",
              "      <td>32.825550</td>\n",
              "      <td>-117.244900</td>\n",
              "      <td>152.25</td>\n",
              "      <td>23.700000</td>\n",
              "      <td>10</td>\n",
              "      <td>2015</td>\n",
              "    </tr>\n",
              "    <tr>\n",
              "      <th>83</th>\n",
              "      <td>2015-11-01</td>\n",
              "      <td>32.825550</td>\n",
              "      <td>-117.244900</td>\n",
              "      <td>152.25</td>\n",
              "      <td>48.250000</td>\n",
              "      <td>11</td>\n",
              "      <td>2015</td>\n",
              "    </tr>\n",
              "    <tr>\n",
              "      <th>84</th>\n",
              "      <td>2015-12-01</td>\n",
              "      <td>32.825550</td>\n",
              "      <td>-117.244900</td>\n",
              "      <td>152.25</td>\n",
              "      <td>22.850000</td>\n",
              "      <td>12</td>\n",
              "      <td>2015</td>\n",
              "    </tr>\n",
              "    <tr>\n",
              "      <th>85</th>\n",
              "      <td>2016-01-01</td>\n",
              "      <td>32.825550</td>\n",
              "      <td>-117.244900</td>\n",
              "      <td>152.25</td>\n",
              "      <td>67.500000</td>\n",
              "      <td>1</td>\n",
              "      <td>2016</td>\n",
              "    </tr>\n",
              "    <tr>\n",
              "      <th>86</th>\n",
              "      <td>2016-02-01</td>\n",
              "      <td>32.825550</td>\n",
              "      <td>-117.244900</td>\n",
              "      <td>152.25</td>\n",
              "      <td>11.350000</td>\n",
              "      <td>2</td>\n",
              "      <td>2016</td>\n",
              "    </tr>\n",
              "    <tr>\n",
              "      <th>87</th>\n",
              "      <td>2016-03-01</td>\n",
              "      <td>32.825550</td>\n",
              "      <td>-117.244900</td>\n",
              "      <td>152.25</td>\n",
              "      <td>25.100000</td>\n",
              "      <td>3</td>\n",
              "      <td>2016</td>\n",
              "    </tr>\n",
              "    <tr>\n",
              "      <th>88</th>\n",
              "      <td>2016-04-01</td>\n",
              "      <td>32.825700</td>\n",
              "      <td>-117.250100</td>\n",
              "      <td>149.70</td>\n",
              "      <td>14.000000</td>\n",
              "      <td>4</td>\n",
              "      <td>2016</td>\n",
              "    </tr>\n",
              "    <tr>\n",
              "      <th>89</th>\n",
              "      <td>2016-05-01</td>\n",
              "      <td>32.825700</td>\n",
              "      <td>-117.250100</td>\n",
              "      <td>149.70</td>\n",
              "      <td>26.200000</td>\n",
              "      <td>5</td>\n",
              "      <td>2016</td>\n",
              "    </tr>\n",
              "    <tr>\n",
              "      <th>90</th>\n",
              "      <td>2016-06-01</td>\n",
              "      <td>32.825700</td>\n",
              "      <td>-117.250100</td>\n",
              "      <td>149.70</td>\n",
              "      <td>0.600000</td>\n",
              "      <td>6</td>\n",
              "      <td>2016</td>\n",
              "    </tr>\n",
              "    <tr>\n",
              "      <th>91</th>\n",
              "      <td>2016-07-01</td>\n",
              "      <td>32.825700</td>\n",
              "      <td>-117.250100</td>\n",
              "      <td>149.70</td>\n",
              "      <td>0.000000</td>\n",
              "      <td>7</td>\n",
              "      <td>2016</td>\n",
              "    </tr>\n",
              "    <tr>\n",
              "      <th>92</th>\n",
              "      <td>2016-08-01</td>\n",
              "      <td>32.825700</td>\n",
              "      <td>-117.250100</td>\n",
              "      <td>149.70</td>\n",
              "      <td>0.800000</td>\n",
              "      <td>8</td>\n",
              "      <td>2016</td>\n",
              "    </tr>\n",
              "    <tr>\n",
              "      <th>93</th>\n",
              "      <td>2016-09-01</td>\n",
              "      <td>32.825700</td>\n",
              "      <td>-117.250100</td>\n",
              "      <td>149.70</td>\n",
              "      <td>11.900000</td>\n",
              "      <td>9</td>\n",
              "      <td>2016</td>\n",
              "    </tr>\n",
              "    <tr>\n",
              "      <th>94</th>\n",
              "      <td>2016-10-01</td>\n",
              "      <td>32.825700</td>\n",
              "      <td>-117.250100</td>\n",
              "      <td>149.70</td>\n",
              "      <td>3.900000</td>\n",
              "      <td>10</td>\n",
              "      <td>2016</td>\n",
              "    </tr>\n",
              "  </tbody>\n",
              "</table>\n",
              "<p>95 rows × 7 columns</p>\n",
              "</div>"
            ],
            "text/plain": [
              "         DATE   LATITUDE   LONGITUDE  ELEVATION        PRCP  MONTH  YEAR\n",
              "0  2008-12-01  32.825400 -117.239700     154.80  112.400000     12  2008\n",
              "1  2009-01-01  32.825400 -117.239700     154.80    6.900000      1  2009\n",
              "2  2009-02-01  32.825400 -117.239700     154.80   72.600000      2  2009\n",
              "3  2009-03-01  32.825550 -117.244900     152.25    6.100000      3  2009\n",
              "4  2009-04-01  32.825550 -117.244900     152.25    2.050000      4  2009\n",
              "5  2009-05-01  32.825550 -117.244900     152.25    4.850000      5  2009\n",
              "6  2009-06-01  32.825550 -117.244900     152.25    3.850000      6  2009\n",
              "7  2009-07-01  32.825550 -117.244900     152.25    0.000000      7  2009\n",
              "8  2009-08-01  32.825550 -117.244900     152.25    0.400000      8  2009\n",
              "9  2009-09-01  32.825550 -117.244900     152.25    0.550000      9  2009\n",
              "10 2009-10-01  32.825550 -117.244900     152.25    0.500000     10  2009\n",
              "11 2009-11-01  32.840533 -117.245833     139.20    6.133333     11  2009\n",
              "12 2009-12-01  32.825700 -117.250100     149.70   80.000000     12  2009\n",
              "13 2010-01-01  32.840533 -117.245833     139.20  140.000000      1  2010\n",
              "14 2010-02-01  32.840533 -117.245833     139.20   71.700000      2  2010\n",
              "15 2010-03-01  32.840533 -117.245833     139.20   14.966667      3  2010\n",
              "16 2010-04-01  32.840533 -117.245833     139.20   47.066667      4  2010\n",
              "17 2010-05-01  32.840533 -117.245833     139.20    0.900000      5  2010\n",
              "18 2010-06-01  32.825550 -117.244900     152.25    1.450000      6  2010\n",
              "19 2010-07-01  32.825550 -117.244900     152.25    2.250000      7  2010\n",
              "20 2010-08-01  32.825550 -117.244900     152.25    0.000000      8  2010\n",
              "21 2010-09-01  32.840533 -117.245833     139.20    0.966667      9  2010\n",
              "22 2010-10-01  32.825700 -117.250100     149.70   64.100000     10  2010\n",
              "23 2010-11-01  32.840533 -117.245833     139.20   27.033333     11  2010\n",
              "24 2010-12-01  32.825550 -117.244900     152.25  166.200000     12  2010\n",
              "25 2011-01-01  32.840533 -117.245833     139.20   24.633333      1  2011\n",
              "26 2011-02-01  32.840533 -117.245833     139.20   45.966667      2  2011\n",
              "27 2011-03-01  32.840533 -117.245833     139.20   24.500000      3  2011\n",
              "28 2011-04-01  32.825550 -117.244900     152.25    6.800000      4  2011\n",
              "29 2011-05-01  32.840533 -117.245833     139.20   18.533333      5  2011\n",
              "..        ...        ...         ...        ...         ...    ...   ...\n",
              "65 2014-05-01  32.840533 -117.245833     139.20    0.000000      5  2014\n",
              "66 2014-06-01  32.825550 -117.244900     152.25    0.000000      6  2014\n",
              "67 2014-07-01  32.825550 -117.244900     152.25    8.750000      7  2014\n",
              "68 2014-08-01  32.825550 -117.244900     152.25    4.450000      8  2014\n",
              "69 2014-09-01  32.825550 -117.244900     152.25   10.300000      9  2014\n",
              "70 2014-10-01  32.825550 -117.244900     152.25    0.000000     10  2014\n",
              "71 2014-11-01  32.825550 -117.244900     152.25    9.250000     11  2014\n",
              "72 2014-12-01  32.825550 -117.244900     152.25   86.050000     12  2014\n",
              "73 2015-01-01  32.825550 -117.244900     152.25   18.100000      1  2015\n",
              "74 2015-02-01  32.825550 -117.244900     152.25    8.750000      2  2015\n",
              "75 2015-03-01  32.825550 -117.244900     152.25   27.200000      3  2015\n",
              "76 2015-04-01  32.825550 -117.244900     152.25    3.300000      4  2015\n",
              "77 2015-05-01  32.825550 -117.244900     152.25   30.850000      5  2015\n",
              "78 2015-06-01  32.825550 -117.244900     152.25    0.800000      6  2015\n",
              "79 2015-07-01  32.825550 -117.244900     152.25   38.050000      7  2015\n",
              "80 2015-08-01  32.825550 -117.244900     152.25    0.500000      8  2015\n",
              "81 2015-09-01  32.825550 -117.244900     152.25   28.600000      9  2015\n",
              "82 2015-10-01  32.825550 -117.244900     152.25   23.700000     10  2015\n",
              "83 2015-11-01  32.825550 -117.244900     152.25   48.250000     11  2015\n",
              "84 2015-12-01  32.825550 -117.244900     152.25   22.850000     12  2015\n",
              "85 2016-01-01  32.825550 -117.244900     152.25   67.500000      1  2016\n",
              "86 2016-02-01  32.825550 -117.244900     152.25   11.350000      2  2016\n",
              "87 2016-03-01  32.825550 -117.244900     152.25   25.100000      3  2016\n",
              "88 2016-04-01  32.825700 -117.250100     149.70   14.000000      4  2016\n",
              "89 2016-05-01  32.825700 -117.250100     149.70   26.200000      5  2016\n",
              "90 2016-06-01  32.825700 -117.250100     149.70    0.600000      6  2016\n",
              "91 2016-07-01  32.825700 -117.250100     149.70    0.000000      7  2016\n",
              "92 2016-08-01  32.825700 -117.250100     149.70    0.800000      8  2016\n",
              "93 2016-09-01  32.825700 -117.250100     149.70   11.900000      9  2016\n",
              "94 2016-10-01  32.825700 -117.250100     149.70    3.900000     10  2016\n",
              "\n",
              "[95 rows x 7 columns]"
            ]
          },
          "metadata": {
            "tags": []
          },
          "execution_count": 11
        }
      ]
    },
    {
      "cell_type": "code",
      "metadata": {
        "id": "Uw1Me9ffFTmR",
        "colab_type": "code",
        "colab": {
          "base_uri": "https://localhost:8080/",
          "height": 268
        },
        "outputId": "316f5f00-b415-4365-a794-64478911cd9b"
      },
      "source": [
        "plt.plot(df.DATE, df.PRCP);"
      ],
      "execution_count": 12,
      "outputs": [
        {
          "output_type": "display_data",
          "data": {
            "image/png": "[encoded data removed]",
            "text/plain": [
              "<Figure size 432x288 with 1 Axes>"
            ]
          },
          "metadata": {
            "tags": []
          }
        }
      ]
    },
    {
      "cell_type": "code",
      "metadata": {
        "id": "UmNjdB9KFTmT",
        "colab_type": "code",
        "colab": {
          "base_uri": "https://localhost:8080/",
          "height": 287
        },
        "outputId": "05baf100-27c9-419f-fbe5-af014e2b126f"
      },
      "source": [
        "df.describe()"
      ],
      "execution_count": 13,
      "outputs": [
        {
          "output_type": "execute_result",
          "data": {
            "text/html": [
              "<div>\n",
              "<style scoped>\n",
              "    .dataframe tbody tr th:only-of-type {\n",
              "        vertical-align: middle;\n",
              "    }\n",
              "\n",
              "    .dataframe tbody tr th {\n",
              "        vertical-align: top;\n",
              "    }\n",
              "\n",
              "    .dataframe thead th {\n",
              "        text-align: right;\n",
              "    }\n",
              "</style>\n",
              "<table border=\"1\" class=\"dataframe\">\n",
              "  <thead>\n",
              "    <tr style=\"text-align: right;\">\n",
              "      <th></th>\n",
              "      <th>LATITUDE</th>\n",
              "      <th>LONGITUDE</th>\n",
              "      <th>ELEVATION</th>\n",
              "      <th>PRCP</th>\n",
              "      <th>MONTH</th>\n",
              "      <th>YEAR</th>\n",
              "    </tr>\n",
              "  </thead>\n",
              "  <tbody>\n",
              "    <tr>\n",
              "      <th>count</th>\n",
              "      <td>95.000000</td>\n",
              "      <td>95.000000</td>\n",
              "      <td>95.000000</td>\n",
              "      <td>95.000000</td>\n",
              "      <td>95.000000</td>\n",
              "      <td>95.000000</td>\n",
              "    </tr>\n",
              "    <tr>\n",
              "      <th>mean</th>\n",
              "      <td>32.830764</td>\n",
              "      <td>-117.245553</td>\n",
              "      <td>147.555789</td>\n",
              "      <td>20.878070</td>\n",
              "      <td>6.452632</td>\n",
              "      <td>2012.378947</td>\n",
              "    </tr>\n",
              "    <tr>\n",
              "      <th>std</th>\n",
              "      <td>0.007165</td>\n",
              "      <td>0.001824</td>\n",
              "      <td>6.192505</td>\n",
              "      <td>30.779847</td>\n",
              "      <td>3.457242</td>\n",
              "      <td>2.302538</td>\n",
              "    </tr>\n",
              "    <tr>\n",
              "      <th>min</th>\n",
              "      <td>32.825400</td>\n",
              "      <td>-117.250100</td>\n",
              "      <td>139.200000</td>\n",
              "      <td>0.000000</td>\n",
              "      <td>1.000000</td>\n",
              "      <td>2008.000000</td>\n",
              "    </tr>\n",
              "    <tr>\n",
              "      <th>25%</th>\n",
              "      <td>32.825550</td>\n",
              "      <td>-117.245833</td>\n",
              "      <td>139.200000</td>\n",
              "      <td>0.850000</td>\n",
              "      <td>3.500000</td>\n",
              "      <td>2010.000000</td>\n",
              "    </tr>\n",
              "    <tr>\n",
              "      <th>50%</th>\n",
              "      <td>32.825550</td>\n",
              "      <td>-117.244900</td>\n",
              "      <td>152.250000</td>\n",
              "      <td>8.750000</td>\n",
              "      <td>6.000000</td>\n",
              "      <td>2012.000000</td>\n",
              "    </tr>\n",
              "    <tr>\n",
              "      <th>75%</th>\n",
              "      <td>32.840533</td>\n",
              "      <td>-117.244900</td>\n",
              "      <td>152.250000</td>\n",
              "      <td>27.116667</td>\n",
              "      <td>9.000000</td>\n",
              "      <td>2014.000000</td>\n",
              "    </tr>\n",
              "    <tr>\n",
              "      <th>max</th>\n",
              "      <td>32.840533</td>\n",
              "      <td>-117.239700</td>\n",
              "      <td>154.800000</td>\n",
              "      <td>166.200000</td>\n",
              "      <td>12.000000</td>\n",
              "      <td>2016.000000</td>\n",
              "    </tr>\n",
              "  </tbody>\n",
              "</table>\n",
              "</div>"
            ],
            "text/plain": [
              "        LATITUDE   LONGITUDE   ELEVATION        PRCP      MONTH         YEAR\n",
              "count  95.000000   95.000000   95.000000   95.000000  95.000000    95.000000\n",
              "mean   32.830764 -117.245553  147.555789   20.878070   6.452632  2012.378947\n",
              "std     0.007165    0.001824    6.192505   30.779847   3.457242     2.302538\n",
              "min    32.825400 -117.250100  139.200000    0.000000   1.000000  2008.000000\n",
              "25%    32.825550 -117.245833  139.200000    0.850000   3.500000  2010.000000\n",
              "50%    32.825550 -117.244900  152.250000    8.750000   6.000000  2012.000000\n",
              "75%    32.840533 -117.244900  152.250000   27.116667   9.000000  2014.000000\n",
              "max    32.840533 -117.239700  154.800000  166.200000  12.000000  2016.000000"
            ]
          },
          "metadata": {
            "tags": []
          },
          "execution_count": 13
        }
      ]
    },
    {
      "cell_type": "code",
      "metadata": {
        "id": "Ddx27auCFTmV",
        "colab_type": "code",
        "colab": {
          "base_uri": "https://localhost:8080/",
          "height": 1000
        },
        "outputId": "3e2e672a-74c1-42d2-dc7a-5595f2ad2b81"
      },
      "source": [
        "df.mean"
      ],
      "execution_count": 14,
      "outputs": [
        {
          "output_type": "execute_result",
          "data": {
            "text/plain": [
              "<bound method DataFrame.mean of          DATE   LATITUDE   LONGITUDE  ELEVATION        PRCP  MONTH  YEAR\n",
              "0  2008-12-01  32.825400 -117.239700     154.80  112.400000     12  2008\n",
              "1  2009-01-01  32.825400 -117.239700     154.80    6.900000      1  2009\n",
              "2  2009-02-01  32.825400 -117.239700     154.80   72.600000      2  2009\n",
              "3  2009-03-01  32.825550 -117.244900     152.25    6.100000      3  2009\n",
              "4  2009-04-01  32.825550 -117.244900     152.25    2.050000      4  2009\n",
              "5  2009-05-01  32.825550 -117.244900     152.25    4.850000      5  2009\n",
              "6  2009-06-01  32.825550 -117.244900     152.25    3.850000      6  2009\n",
              "7  2009-07-01  32.825550 -117.244900     152.25    0.000000      7  2009\n",
              "8  2009-08-01  32.825550 -117.244900     152.25    0.400000      8  2009\n",
              "9  2009-09-01  32.825550 -117.244900     152.25    0.550000      9  2009\n",
              "10 2009-10-01  32.825550 -117.244900     152.25    0.500000     10  2009\n",
              "11 2009-11-01  32.840533 -117.245833     139.20    6.133333     11  2009\n",
              "12 2009-12-01  32.825700 -117.250100     149.70   80.000000     12  2009\n",
              "13 2010-01-01  32.840533 -117.245833     139.20  140.000000      1  2010\n",
              "14 2010-02-01  32.840533 -117.245833     139.20   71.700000      2  2010\n",
              "15 2010-03-01  32.840533 -117.245833     139.20   14.966667      3  2010\n",
              "16 2010-04-01  32.840533 -117.245833     139.20   47.066667      4  2010\n",
              "17 2010-05-01  32.840533 -117.245833     139.20    0.900000      5  2010\n",
              "18 2010-06-01  32.825550 -117.244900     152.25    1.450000      6  2010\n",
              "19 2010-07-01  32.825550 -117.244900     152.25    2.250000      7  2010\n",
              "20 2010-08-01  32.825550 -117.244900     152.25    0.000000      8  2010\n",
              "21 2010-09-01  32.840533 -117.245833     139.20    0.966667      9  2010\n",
              "22 2010-10-01  32.825700 -117.250100     149.70   64.100000     10  2010\n",
              "23 2010-11-01  32.840533 -117.245833     139.20   27.033333     11  2010\n",
              "24 2010-12-01  32.825550 -117.244900     152.25  166.200000     12  2010\n",
              "25 2011-01-01  32.840533 -117.245833     139.20   24.633333      1  2011\n",
              "26 2011-02-01  32.840533 -117.245833     139.20   45.966667      2  2011\n",
              "27 2011-03-01  32.840533 -117.245833     139.20   24.500000      3  2011\n",
              "28 2011-04-01  32.825550 -117.244900     152.25    6.800000      4  2011\n",
              "29 2011-05-01  32.840533 -117.245833     139.20   18.533333      5  2011\n",
              "..        ...        ...         ...        ...         ...    ...   ...\n",
              "65 2014-05-01  32.840533 -117.245833     139.20    0.000000      5  2014\n",
              "66 2014-06-01  32.825550 -117.244900     152.25    0.000000      6  2014\n",
              "67 2014-07-01  32.825550 -117.244900     152.25    8.750000      7  2014\n",
              "68 2014-08-01  32.825550 -117.244900     152.25    4.450000      8  2014\n",
              "69 2014-09-01  32.825550 -117.244900     152.25   10.300000      9  2014\n",
              "70 2014-10-01  32.825550 -117.244900     152.25    0.000000     10  2014\n",
              "71 2014-11-01  32.825550 -117.244900     152.25    9.250000     11  2014\n",
              "72 2014-12-01  32.825550 -117.244900     152.25   86.050000     12  2014\n",
              "73 2015-01-01  32.825550 -117.244900     152.25   18.100000      1  2015\n",
              "74 2015-02-01  32.825550 -117.244900     152.25    8.750000      2  2015\n",
              "75 2015-03-01  32.825550 -117.244900     152.25   27.200000      3  2015\n",
              "76 2015-04-01  32.825550 -117.244900     152.25    3.300000      4  2015\n",
              "77 2015-05-01  32.825550 -117.244900     152.25   30.850000      5  2015\n",
              "78 2015-06-01  32.825550 -117.244900     152.25    0.800000      6  2015\n",
              "79 2015-07-01  32.825550 -117.244900     152.25   38.050000      7  2015\n",
              "80 2015-08-01  32.825550 -117.244900     152.25    0.500000      8  2015\n",
              "81 2015-09-01  32.825550 -117.244900     152.25   28.600000      9  2015\n",
              "82 2015-10-01  32.825550 -117.244900     152.25   23.700000     10  2015\n",
              "83 2015-11-01  32.825550 -117.244900     152.25   48.250000     11  2015\n",
              "84 2015-12-01  32.825550 -117.244900     152.25   22.850000     12  2015\n",
              "85 2016-01-01  32.825550 -117.244900     152.25   67.500000      1  2016\n",
              "86 2016-02-01  32.825550 -117.244900     152.25   11.350000      2  2016\n",
              "87 2016-03-01  32.825550 -117.244900     152.25   25.100000      3  2016\n",
              "88 2016-04-01  32.825700 -117.250100     149.70   14.000000      4  2016\n",
              "89 2016-05-01  32.825700 -117.250100     149.70   26.200000      5  2016\n",
              "90 2016-06-01  32.825700 -117.250100     149.70    0.600000      6  2016\n",
              "91 2016-07-01  32.825700 -117.250100     149.70    0.000000      7  2016\n",
              "92 2016-08-01  32.825700 -117.250100     149.70    0.800000      8  2016\n",
              "93 2016-09-01  32.825700 -117.250100     149.70   11.900000      9  2016\n",
              "94 2016-10-01  32.825700 -117.250100     149.70    3.900000     10  2016\n",
              "\n",
              "[95 rows x 7 columns]>"
            ]
          },
          "metadata": {
            "tags": []
          },
          "execution_count": 14
        }
      ]
    },
    {
      "cell_type": "code",
      "metadata": {
        "id": "Y3zTXx4TFTmW",
        "colab_type": "code",
        "colab": {
          "base_uri": "https://localhost:8080/",
          "height": 34
        },
        "outputId": "3083e2b6-6b23-4dea-fbbd-7889bc7a82a7"
      },
      "source": [
        "df.PRCP.mean()"
      ],
      "execution_count": 15,
      "outputs": [
        {
          "output_type": "execute_result",
          "data": {
            "text/plain": [
              "20.87807017543859"
            ]
          },
          "metadata": {
            "tags": []
          },
          "execution_count": 15
        }
      ]
    },
    {
      "cell_type": "code",
      "metadata": {
        "id": "uT6LyD_dFTmX",
        "colab_type": "code",
        "colab": {
          "base_uri": "https://localhost:8080/",
          "height": 34
        },
        "outputId": "d66a384b-2a25-47fc-d97c-8541c4cd1eb0"
      },
      "source": [
        "df.PRCP.count()"
      ],
      "execution_count": 16,
      "outputs": [
        {
          "output_type": "execute_result",
          "data": {
            "text/plain": [
              "95"
            ]
          },
          "metadata": {
            "tags": []
          },
          "execution_count": 16
        }
      ]
    },
    {
      "cell_type": "code",
      "metadata": {
        "id": "nF13V117FTmZ",
        "colab_type": "code",
        "colab": {
          "base_uri": "https://localhost:8080/",
          "height": 34
        },
        "outputId": "58b3f88d-f9de-4540-c3e2-4d3b2542187d"
      },
      "source": [
        "df.PRCP.idxmin()"
      ],
      "execution_count": 17,
      "outputs": [
        {
          "output_type": "execute_result",
          "data": {
            "text/plain": [
              "7"
            ]
          },
          "metadata": {
            "tags": []
          },
          "execution_count": 17
        }
      ]
    },
    {
      "cell_type": "code",
      "metadata": {
        "id": "Mw0wsqW3FTma",
        "colab_type": "code",
        "colab": {
          "base_uri": "https://localhost:8080/",
          "height": 34
        },
        "outputId": "b73e5a27-1b8c-4c10-a879-1b1ea2c76657"
      },
      "source": [
        "df.PRCP.idxmax()"
      ],
      "execution_count": 18,
      "outputs": [
        {
          "output_type": "execute_result",
          "data": {
            "text/plain": [
              "24"
            ]
          },
          "metadata": {
            "tags": []
          },
          "execution_count": 18
        }
      ]
    },
    {
      "cell_type": "code",
      "metadata": {
        "id": "rPjnwi1KFTmc",
        "colab_type": "code",
        "colab": {
          "base_uri": "https://localhost:8080/",
          "height": 34
        },
        "outputId": "410cfbb5-3123-4ca1-d780-bbf9e8ff499f"
      },
      "source": [
        "df.PRCP.max()"
      ],
      "execution_count": 19,
      "outputs": [
        {
          "output_type": "execute_result",
          "data": {
            "text/plain": [
              "166.2"
            ]
          },
          "metadata": {
            "tags": []
          },
          "execution_count": 19
        }
      ]
    },
    {
      "cell_type": "code",
      "metadata": {
        "id": "qC1cfgCbFTme",
        "colab_type": "code",
        "colab": {
          "base_uri": "https://localhost:8080/",
          "height": 1000
        },
        "outputId": "29fb122f-5cdc-4faa-9a31-055f46bc7a72"
      },
      "source": [
        "df.PRCP"
      ],
      "execution_count": 20,
      "outputs": [
        {
          "output_type": "execute_result",
          "data": {
            "text/plain": [
              "0     112.400000\n",
              "1       6.900000\n",
              "2      72.600000\n",
              "3       6.100000\n",
              "4       2.050000\n",
              "5       4.850000\n",
              "6       3.850000\n",
              "7       0.000000\n",
              "8       0.400000\n",
              "9       0.550000\n",
              "10      0.500000\n",
              "11      6.133333\n",
              "12     80.000000\n",
              "13    140.000000\n",
              "14     71.700000\n",
              "15     14.966667\n",
              "16     47.066667\n",
              "17      0.900000\n",
              "18      1.450000\n",
              "19      2.250000\n",
              "20      0.000000\n",
              "21      0.966667\n",
              "22     64.100000\n",
              "23     27.033333\n",
              "24    166.200000\n",
              "25     24.633333\n",
              "26     45.966667\n",
              "27     24.500000\n",
              "28      6.800000\n",
              "29     18.533333\n",
              "         ...    \n",
              "65      0.000000\n",
              "66      0.000000\n",
              "67      8.750000\n",
              "68      4.450000\n",
              "69     10.300000\n",
              "70      0.000000\n",
              "71      9.250000\n",
              "72     86.050000\n",
              "73     18.100000\n",
              "74      8.750000\n",
              "75     27.200000\n",
              "76      3.300000\n",
              "77     30.850000\n",
              "78      0.800000\n",
              "79     38.050000\n",
              "80      0.500000\n",
              "81     28.600000\n",
              "82     23.700000\n",
              "83     48.250000\n",
              "84     22.850000\n",
              "85     67.500000\n",
              "86     11.350000\n",
              "87     25.100000\n",
              "88     14.000000\n",
              "89     26.200000\n",
              "90      0.600000\n",
              "91      0.000000\n",
              "92      0.800000\n",
              "93     11.900000\n",
              "94      3.900000\n",
              "Name: PRCP, Length: 95, dtype: float64"
            ]
          },
          "metadata": {
            "tags": []
          },
          "execution_count": 20
        }
      ]
    },
    {
      "cell_type": "code",
      "metadata": {
        "id": "NrurWsBrFTmg",
        "colab_type": "code",
        "colab": {}
      },
      "source": [
        ""
      ],
      "execution_count": 0,
      "outputs": []
    },
    {
      "cell_type": "code",
      "metadata": {
        "id": "SSEhI18TFTmi",
        "colab_type": "code",
        "colab": {
          "base_uri": "https://localhost:8080/",
          "height": 1000
        },
        "outputId": "076faf4d-dea1-4a39-8d4e-171c78642259"
      },
      "source": [
        "df.DATE = df['DATE']\n",
        "df"
      ],
      "execution_count": 21,
      "outputs": [
        {
          "output_type": "execute_result",
          "data": {
            "text/html": [
              "<div>\n",
              "<style scoped>\n",
              "    .dataframe tbody tr th:only-of-type {\n",
              "        vertical-align: middle;\n",
              "    }\n",
              "\n",
              "    .dataframe tbody tr th {\n",
              "        vertical-align: top;\n",
              "    }\n",
              "\n",
              "    .dataframe thead th {\n",
              "        text-align: right;\n",
              "    }\n",
              "</style>\n",
              "<table border=\"1\" class=\"dataframe\">\n",
              "  <thead>\n",
              "    <tr style=\"text-align: right;\">\n",
              "      <th></th>\n",
              "      <th>DATE</th>\n",
              "      <th>LATITUDE</th>\n",
              "      <th>LONGITUDE</th>\n",
              "      <th>ELEVATION</th>\n",
              "      <th>PRCP</th>\n",
              "      <th>MONTH</th>\n",
              "      <th>YEAR</th>\n",
              "    </tr>\n",
              "  </thead>\n",
              "  <tbody>\n",
              "    <tr>\n",
              "      <th>0</th>\n",
              "      <td>2008-12-01</td>\n",
              "      <td>32.825400</td>\n",
              "      <td>-117.239700</td>\n",
              "      <td>154.80</td>\n",
              "      <td>112.400000</td>\n",
              "      <td>12</td>\n",
              "      <td>2008</td>\n",
              "    </tr>\n",
              "    <tr>\n",
              "      <th>1</th>\n",
              "      <td>2009-01-01</td>\n",
              "      <td>32.825400</td>\n",
              "      <td>-117.239700</td>\n",
              "      <td>154.80</td>\n",
              "      <td>6.900000</td>\n",
              "      <td>1</td>\n",
              "      <td>2009</td>\n",
              "    </tr>\n",
              "    <tr>\n",
              "      <th>2</th>\n",
              "      <td>2009-02-01</td>\n",
              "      <td>32.825400</td>\n",
              "      <td>-117.239700</td>\n",
              "      <td>154.80</td>\n",
              "      <td>72.600000</td>\n",
              "      <td>2</td>\n",
              "      <td>2009</td>\n",
              "    </tr>\n",
              "    <tr>\n",
              "      <th>3</th>\n",
              "      <td>2009-03-01</td>\n",
              "      <td>32.825550</td>\n",
              "      <td>-117.244900</td>\n",
              "      <td>152.25</td>\n",
              "      <td>6.100000</td>\n",
              "      <td>3</td>\n",
              "      <td>2009</td>\n",
              "    </tr>\n",
              "    <tr>\n",
              "      <th>4</th>\n",
              "      <td>2009-04-01</td>\n",
              "      <td>32.825550</td>\n",
              "      <td>-117.244900</td>\n",
              "      <td>152.25</td>\n",
              "      <td>2.050000</td>\n",
              "      <td>4</td>\n",
              "      <td>2009</td>\n",
              "    </tr>\n",
              "    <tr>\n",
              "      <th>5</th>\n",
              "      <td>2009-05-01</td>\n",
              "      <td>32.825550</td>\n",
              "      <td>-117.244900</td>\n",
              "      <td>152.25</td>\n",
              "      <td>4.850000</td>\n",
              "      <td>5</td>\n",
              "      <td>2009</td>\n",
              "    </tr>\n",
              "    <tr>\n",
              "      <th>6</th>\n",
              "      <td>2009-06-01</td>\n",
              "      <td>32.825550</td>\n",
              "      <td>-117.244900</td>\n",
              "      <td>152.25</td>\n",
              "      <td>3.850000</td>\n",
              "      <td>6</td>\n",
              "      <td>2009</td>\n",
              "    </tr>\n",
              "    <tr>\n",
              "      <th>7</th>\n",
              "      <td>2009-07-01</td>\n",
              "      <td>32.825550</td>\n",
              "      <td>-117.244900</td>\n",
              "      <td>152.25</td>\n",
              "      <td>0.000000</td>\n",
              "      <td>7</td>\n",
              "      <td>2009</td>\n",
              "    </tr>\n",
              "    <tr>\n",
              "      <th>8</th>\n",
              "      <td>2009-08-01</td>\n",
              "      <td>32.825550</td>\n",
              "      <td>-117.244900</td>\n",
              "      <td>152.25</td>\n",
              "      <td>0.400000</td>\n",
              "      <td>8</td>\n",
              "      <td>2009</td>\n",
              "    </tr>\n",
              "    <tr>\n",
              "      <th>9</th>\n",
              "      <td>2009-09-01</td>\n",
              "      <td>32.825550</td>\n",
              "      <td>-117.244900</td>\n",
              "      <td>152.25</td>\n",
              "      <td>0.550000</td>\n",
              "      <td>9</td>\n",
              "      <td>2009</td>\n",
              "    </tr>\n",
              "    <tr>\n",
              "      <th>10</th>\n",
              "      <td>2009-10-01</td>\n",
              "      <td>32.825550</td>\n",
              "      <td>-117.244900</td>\n",
              "      <td>152.25</td>\n",
              "      <td>0.500000</td>\n",
              "      <td>10</td>\n",
              "      <td>2009</td>\n",
              "    </tr>\n",
              "    <tr>\n",
              "      <th>11</th>\n",
              "      <td>2009-11-01</td>\n",
              "      <td>32.840533</td>\n",
              "      <td>-117.245833</td>\n",
              "      <td>139.20</td>\n",
              "      <td>6.133333</td>\n",
              "      <td>11</td>\n",
              "      <td>2009</td>\n",
              "    </tr>\n",
              "    <tr>\n",
              "      <th>12</th>\n",
              "      <td>2009-12-01</td>\n",
              "      <td>32.825700</td>\n",
              "      <td>-117.250100</td>\n",
              "      <td>149.70</td>\n",
              "      <td>80.000000</td>\n",
              "      <td>12</td>\n",
              "      <td>2009</td>\n",
              "    </tr>\n",
              "    <tr>\n",
              "      <th>13</th>\n",
              "      <td>2010-01-01</td>\n",
              "      <td>32.840533</td>\n",
              "      <td>-117.245833</td>\n",
              "      <td>139.20</td>\n",
              "      <td>140.000000</td>\n",
              "      <td>1</td>\n",
              "      <td>2010</td>\n",
              "    </tr>\n",
              "    <tr>\n",
              "      <th>14</th>\n",
              "      <td>2010-02-01</td>\n",
              "      <td>32.840533</td>\n",
              "      <td>-117.245833</td>\n",
              "      <td>139.20</td>\n",
              "      <td>71.700000</td>\n",
              "      <td>2</td>\n",
              "      <td>2010</td>\n",
              "    </tr>\n",
              "    <tr>\n",
              "      <th>15</th>\n",
              "      <td>2010-03-01</td>\n",
              "      <td>32.840533</td>\n",
              "      <td>-117.245833</td>\n",
              "      <td>139.20</td>\n",
              "      <td>14.966667</td>\n",
              "      <td>3</td>\n",
              "      <td>2010</td>\n",
              "    </tr>\n",
              "    <tr>\n",
              "      <th>16</th>\n",
              "      <td>2010-04-01</td>\n",
              "      <td>32.840533</td>\n",
              "      <td>-117.245833</td>\n",
              "      <td>139.20</td>\n",
              "      <td>47.066667</td>\n",
              "      <td>4</td>\n",
              "      <td>2010</td>\n",
              "    </tr>\n",
              "    <tr>\n",
              "      <th>17</th>\n",
              "      <td>2010-05-01</td>\n",
              "      <td>32.840533</td>\n",
              "      <td>-117.245833</td>\n",
              "      <td>139.20</td>\n",
              "      <td>0.900000</td>\n",
              "      <td>5</td>\n",
              "      <td>2010</td>\n",
              "    </tr>\n",
              "    <tr>\n",
              "      <th>18</th>\n",
              "      <td>2010-06-01</td>\n",
              "      <td>32.825550</td>\n",
              "      <td>-117.244900</td>\n",
              "      <td>152.25</td>\n",
              "      <td>1.450000</td>\n",
              "      <td>6</td>\n",
              "      <td>2010</td>\n",
              "    </tr>\n",
              "    <tr>\n",
              "      <th>19</th>\n",
              "      <td>2010-07-01</td>\n",
              "      <td>32.825550</td>\n",
              "      <td>-117.244900</td>\n",
              "      <td>152.25</td>\n",
              "      <td>2.250000</td>\n",
              "      <td>7</td>\n",
              "      <td>2010</td>\n",
              "    </tr>\n",
              "    <tr>\n",
              "      <th>20</th>\n",
              "      <td>2010-08-01</td>\n",
              "      <td>32.825550</td>\n",
              "      <td>-117.244900</td>\n",
              "      <td>152.25</td>\n",
              "      <td>0.000000</td>\n",
              "      <td>8</td>\n",
              "      <td>2010</td>\n",
              "    </tr>\n",
              "    <tr>\n",
              "      <th>21</th>\n",
              "      <td>2010-09-01</td>\n",
              "      <td>32.840533</td>\n",
              "      <td>-117.245833</td>\n",
              "      <td>139.20</td>\n",
              "      <td>0.966667</td>\n",
              "      <td>9</td>\n",
              "      <td>2010</td>\n",
              "    </tr>\n",
              "    <tr>\n",
              "      <th>22</th>\n",
              "      <td>2010-10-01</td>\n",
              "      <td>32.825700</td>\n",
              "      <td>-117.250100</td>\n",
              "      <td>149.70</td>\n",
              "      <td>64.100000</td>\n",
              "      <td>10</td>\n",
              "      <td>2010</td>\n",
              "    </tr>\n",
              "    <tr>\n",
              "      <th>23</th>\n",
              "      <td>2010-11-01</td>\n",
              "      <td>32.840533</td>\n",
              "      <td>-117.245833</td>\n",
              "      <td>139.20</td>\n",
              "      <td>27.033333</td>\n",
              "      <td>11</td>\n",
              "      <td>2010</td>\n",
              "    </tr>\n",
              "    <tr>\n",
              "      <th>24</th>\n",
              "      <td>2010-12-01</td>\n",
              "      <td>32.825550</td>\n",
              "      <td>-117.244900</td>\n",
              "      <td>152.25</td>\n",
              "      <td>166.200000</td>\n",
              "      <td>12</td>\n",
              "      <td>2010</td>\n",
              "    </tr>\n",
              "    <tr>\n",
              "      <th>25</th>\n",
              "      <td>2011-01-01</td>\n",
              "      <td>32.840533</td>\n",
              "      <td>-117.245833</td>\n",
              "      <td>139.20</td>\n",
              "      <td>24.633333</td>\n",
              "      <td>1</td>\n",
              "      <td>2011</td>\n",
              "    </tr>\n",
              "    <tr>\n",
              "      <th>26</th>\n",
              "      <td>2011-02-01</td>\n",
              "      <td>32.840533</td>\n",
              "      <td>-117.245833</td>\n",
              "      <td>139.20</td>\n",
              "      <td>45.966667</td>\n",
              "      <td>2</td>\n",
              "      <td>2011</td>\n",
              "    </tr>\n",
              "    <tr>\n",
              "      <th>27</th>\n",
              "      <td>2011-03-01</td>\n",
              "      <td>32.840533</td>\n",
              "      <td>-117.245833</td>\n",
              "      <td>139.20</td>\n",
              "      <td>24.500000</td>\n",
              "      <td>3</td>\n",
              "      <td>2011</td>\n",
              "    </tr>\n",
              "    <tr>\n",
              "      <th>28</th>\n",
              "      <td>2011-04-01</td>\n",
              "      <td>32.825550</td>\n",
              "      <td>-117.244900</td>\n",
              "      <td>152.25</td>\n",
              "      <td>6.800000</td>\n",
              "      <td>4</td>\n",
              "      <td>2011</td>\n",
              "    </tr>\n",
              "    <tr>\n",
              "      <th>29</th>\n",
              "      <td>2011-05-01</td>\n",
              "      <td>32.840533</td>\n",
              "      <td>-117.245833</td>\n",
              "      <td>139.20</td>\n",
              "      <td>18.533333</td>\n",
              "      <td>5</td>\n",
              "      <td>2011</td>\n",
              "    </tr>\n",
              "    <tr>\n",
              "      <th>...</th>\n",
              "      <td>...</td>\n",
              "      <td>...</td>\n",
              "      <td>...</td>\n",
              "      <td>...</td>\n",
              "      <td>...</td>\n",
              "      <td>...</td>\n",
              "      <td>...</td>\n",
              "    </tr>\n",
              "    <tr>\n",
              "      <th>65</th>\n",
              "      <td>2014-05-01</td>\n",
              "      <td>32.840533</td>\n",
              "      <td>-117.245833</td>\n",
              "      <td>139.20</td>\n",
              "      <td>0.000000</td>\n",
              "      <td>5</td>\n",
              "      <td>2014</td>\n",
              "    </tr>\n",
              "    <tr>\n",
              "      <th>66</th>\n",
              "      <td>2014-06-01</td>\n",
              "      <td>32.825550</td>\n",
              "      <td>-117.244900</td>\n",
              "      <td>152.25</td>\n",
              "      <td>0.000000</td>\n",
              "      <td>6</td>\n",
              "      <td>2014</td>\n",
              "    </tr>\n",
              "    <tr>\n",
              "      <th>67</th>\n",
              "      <td>2014-07-01</td>\n",
              "      <td>32.825550</td>\n",
              "      <td>-117.244900</td>\n",
              "      <td>152.25</td>\n",
              "      <td>8.750000</td>\n",
              "      <td>7</td>\n",
              "      <td>2014</td>\n",
              "    </tr>\n",
              "    <tr>\n",
              "      <th>68</th>\n",
              "      <td>2014-08-01</td>\n",
              "      <td>32.825550</td>\n",
              "      <td>-117.244900</td>\n",
              "      <td>152.25</td>\n",
              "      <td>4.450000</td>\n",
              "      <td>8</td>\n",
              "      <td>2014</td>\n",
              "    </tr>\n",
              "    <tr>\n",
              "      <th>69</th>\n",
              "      <td>2014-09-01</td>\n",
              "      <td>32.825550</td>\n",
              "      <td>-117.244900</td>\n",
              "      <td>152.25</td>\n",
              "      <td>10.300000</td>\n",
              "      <td>9</td>\n",
              "      <td>2014</td>\n",
              "    </tr>\n",
              "    <tr>\n",
              "      <th>70</th>\n",
              "      <td>2014-10-01</td>\n",
              "      <td>32.825550</td>\n",
              "      <td>-117.244900</td>\n",
              "      <td>152.25</td>\n",
              "      <td>0.000000</td>\n",
              "      <td>10</td>\n",
              "      <td>2014</td>\n",
              "    </tr>\n",
              "    <tr>\n",
              "      <th>71</th>\n",
              "      <td>2014-11-01</td>\n",
              "      <td>32.825550</td>\n",
              "      <td>-117.244900</td>\n",
              "      <td>152.25</td>\n",
              "      <td>9.250000</td>\n",
              "      <td>11</td>\n",
              "      <td>2014</td>\n",
              "    </tr>\n",
              "    <tr>\n",
              "      <th>72</th>\n",
              "      <td>2014-12-01</td>\n",
              "      <td>32.825550</td>\n",
              "      <td>-117.244900</td>\n",
              "      <td>152.25</td>\n",
              "      <td>86.050000</td>\n",
              "      <td>12</td>\n",
              "      <td>2014</td>\n",
              "    </tr>\n",
              "    <tr>\n",
              "      <th>73</th>\n",
              "      <td>2015-01-01</td>\n",
              "      <td>32.825550</td>\n",
              "      <td>-117.244900</td>\n",
              "      <td>152.25</td>\n",
              "      <td>18.100000</td>\n",
              "      <td>1</td>\n",
              "      <td>2015</td>\n",
              "    </tr>\n",
              "    <tr>\n",
              "      <th>74</th>\n",
              "      <td>2015-02-01</td>\n",
              "      <td>32.825550</td>\n",
              "      <td>-117.244900</td>\n",
              "      <td>152.25</td>\n",
              "      <td>8.750000</td>\n",
              "      <td>2</td>\n",
              "      <td>2015</td>\n",
              "    </tr>\n",
              "    <tr>\n",
              "      <th>75</th>\n",
              "      <td>2015-03-01</td>\n",
              "      <td>32.825550</td>\n",
              "      <td>-117.244900</td>\n",
              "      <td>152.25</td>\n",
              "      <td>27.200000</td>\n",
              "      <td>3</td>\n",
              "      <td>2015</td>\n",
              "    </tr>\n",
              "    <tr>\n",
              "      <th>76</th>\n",
              "      <td>2015-04-01</td>\n",
              "      <td>32.825550</td>\n",
              "      <td>-117.244900</td>\n",
              "      <td>152.25</td>\n",
              "      <td>3.300000</td>\n",
              "      <td>4</td>\n",
              "      <td>2015</td>\n",
              "    </tr>\n",
              "    <tr>\n",
              "      <th>77</th>\n",
              "      <td>2015-05-01</td>\n",
              "      <td>32.825550</td>\n",
              "      <td>-117.244900</td>\n",
              "      <td>152.25</td>\n",
              "      <td>30.850000</td>\n",
              "      <td>5</td>\n",
              "      <td>2015</td>\n",
              "    </tr>\n",
              "    <tr>\n",
              "      <th>78</th>\n",
              "      <td>2015-06-01</td>\n",
              "      <td>32.825550</td>\n",
              "      <td>-117.244900</td>\n",
              "      <td>152.25</td>\n",
              "      <td>0.800000</td>\n",
              "      <td>6</td>\n",
              "      <td>2015</td>\n",
              "    </tr>\n",
              "    <tr>\n",
              "      <th>79</th>\n",
              "      <td>2015-07-01</td>\n",
              "      <td>32.825550</td>\n",
              "      <td>-117.244900</td>\n",
              "      <td>152.25</td>\n",
              "      <td>38.050000</td>\n",
              "      <td>7</td>\n",
              "      <td>2015</td>\n",
              "    </tr>\n",
              "    <tr>\n",
              "      <th>80</th>\n",
              "      <td>2015-08-01</td>\n",
              "      <td>32.825550</td>\n",
              "      <td>-117.244900</td>\n",
              "      <td>152.25</td>\n",
              "      <td>0.500000</td>\n",
              "      <td>8</td>\n",
              "      <td>2015</td>\n",
              "    </tr>\n",
              "    <tr>\n",
              "      <th>81</th>\n",
              "      <td>2015-09-01</td>\n",
              "      <td>32.825550</td>\n",
              "      <td>-117.244900</td>\n",
              "      <td>152.25</td>\n",
              "      <td>28.600000</td>\n",
              "      <td>9</td>\n",
              "      <td>2015</td>\n",
              "    </tr>\n",
              "    <tr>\n",
              "      <th>82</th>\n",
              "      <td>2015-10-01</td>\n",
              "      <td>32.825550</td>\n",
              "      <td>-117.244900</td>\n",
              "      <td>152.25</td>\n",
              "      <td>23.700000</td>\n",
              "      <td>10</td>\n",
              "      <td>2015</td>\n",
              "    </tr>\n",
              "    <tr>\n",
              "      <th>83</th>\n",
              "      <td>2015-11-01</td>\n",
              "      <td>32.825550</td>\n",
              "      <td>-117.244900</td>\n",
              "      <td>152.25</td>\n",
              "      <td>48.250000</td>\n",
              "      <td>11</td>\n",
              "      <td>2015</td>\n",
              "    </tr>\n",
              "    <tr>\n",
              "      <th>84</th>\n",
              "      <td>2015-12-01</td>\n",
              "      <td>32.825550</td>\n",
              "      <td>-117.244900</td>\n",
              "      <td>152.25</td>\n",
              "      <td>22.850000</td>\n",
              "      <td>12</td>\n",
              "      <td>2015</td>\n",
              "    </tr>\n",
              "    <tr>\n",
              "      <th>85</th>\n",
              "      <td>2016-01-01</td>\n",
              "      <td>32.825550</td>\n",
              "      <td>-117.244900</td>\n",
              "      <td>152.25</td>\n",
              "      <td>67.500000</td>\n",
              "      <td>1</td>\n",
              "      <td>2016</td>\n",
              "    </tr>\n",
              "    <tr>\n",
              "      <th>86</th>\n",
              "      <td>2016-02-01</td>\n",
              "      <td>32.825550</td>\n",
              "      <td>-117.244900</td>\n",
              "      <td>152.25</td>\n",
              "      <td>11.350000</td>\n",
              "      <td>2</td>\n",
              "      <td>2016</td>\n",
              "    </tr>\n",
              "    <tr>\n",
              "      <th>87</th>\n",
              "      <td>2016-03-01</td>\n",
              "      <td>32.825550</td>\n",
              "      <td>-117.244900</td>\n",
              "      <td>152.25</td>\n",
              "      <td>25.100000</td>\n",
              "      <td>3</td>\n",
              "      <td>2016</td>\n",
              "    </tr>\n",
              "    <tr>\n",
              "      <th>88</th>\n",
              "      <td>2016-04-01</td>\n",
              "      <td>32.825700</td>\n",
              "      <td>-117.250100</td>\n",
              "      <td>149.70</td>\n",
              "      <td>14.000000</td>\n",
              "      <td>4</td>\n",
              "      <td>2016</td>\n",
              "    </tr>\n",
              "    <tr>\n",
              "      <th>89</th>\n",
              "      <td>2016-05-01</td>\n",
              "      <td>32.825700</td>\n",
              "      <td>-117.250100</td>\n",
              "      <td>149.70</td>\n",
              "      <td>26.200000</td>\n",
              "      <td>5</td>\n",
              "      <td>2016</td>\n",
              "    </tr>\n",
              "    <tr>\n",
              "      <th>90</th>\n",
              "      <td>2016-06-01</td>\n",
              "      <td>32.825700</td>\n",
              "      <td>-117.250100</td>\n",
              "      <td>149.70</td>\n",
              "      <td>0.600000</td>\n",
              "      <td>6</td>\n",
              "      <td>2016</td>\n",
              "    </tr>\n",
              "    <tr>\n",
              "      <th>91</th>\n",
              "      <td>2016-07-01</td>\n",
              "      <td>32.825700</td>\n",
              "      <td>-117.250100</td>\n",
              "      <td>149.70</td>\n",
              "      <td>0.000000</td>\n",
              "      <td>7</td>\n",
              "      <td>2016</td>\n",
              "    </tr>\n",
              "    <tr>\n",
              "      <th>92</th>\n",
              "      <td>2016-08-01</td>\n",
              "      <td>32.825700</td>\n",
              "      <td>-117.250100</td>\n",
              "      <td>149.70</td>\n",
              "      <td>0.800000</td>\n",
              "      <td>8</td>\n",
              "      <td>2016</td>\n",
              "    </tr>\n",
              "    <tr>\n",
              "      <th>93</th>\n",
              "      <td>2016-09-01</td>\n",
              "      <td>32.825700</td>\n",
              "      <td>-117.250100</td>\n",
              "      <td>149.70</td>\n",
              "      <td>11.900000</td>\n",
              "      <td>9</td>\n",
              "      <td>2016</td>\n",
              "    </tr>\n",
              "    <tr>\n",
              "      <th>94</th>\n",
              "      <td>2016-10-01</td>\n",
              "      <td>32.825700</td>\n",
              "      <td>-117.250100</td>\n",
              "      <td>149.70</td>\n",
              "      <td>3.900000</td>\n",
              "      <td>10</td>\n",
              "      <td>2016</td>\n",
              "    </tr>\n",
              "  </tbody>\n",
              "</table>\n",
              "<p>95 rows × 7 columns</p>\n",
              "</div>"
            ],
            "text/plain": [
              "         DATE   LATITUDE   LONGITUDE  ELEVATION        PRCP  MONTH  YEAR\n",
              "0  2008-12-01  32.825400 -117.239700     154.80  112.400000     12  2008\n",
              "1  2009-01-01  32.825400 -117.239700     154.80    6.900000      1  2009\n",
              "2  2009-02-01  32.825400 -117.239700     154.80   72.600000      2  2009\n",
              "3  2009-03-01  32.825550 -117.244900     152.25    6.100000      3  2009\n",
              "4  2009-04-01  32.825550 -117.244900     152.25    2.050000      4  2009\n",
              "5  2009-05-01  32.825550 -117.244900     152.25    4.850000      5  2009\n",
              "6  2009-06-01  32.825550 -117.244900     152.25    3.850000      6  2009\n",
              "7  2009-07-01  32.825550 -117.244900     152.25    0.000000      7  2009\n",
              "8  2009-08-01  32.825550 -117.244900     152.25    0.400000      8  2009\n",
              "9  2009-09-01  32.825550 -117.244900     152.25    0.550000      9  2009\n",
              "10 2009-10-01  32.825550 -117.244900     152.25    0.500000     10  2009\n",
              "11 2009-11-01  32.840533 -117.245833     139.20    6.133333     11  2009\n",
              "12 2009-12-01  32.825700 -117.250100     149.70   80.000000     12  2009\n",
              "13 2010-01-01  32.840533 -117.245833     139.20  140.000000      1  2010\n",
              "14 2010-02-01  32.840533 -117.245833     139.20   71.700000      2  2010\n",
              "15 2010-03-01  32.840533 -117.245833     139.20   14.966667      3  2010\n",
              "16 2010-04-01  32.840533 -117.245833     139.20   47.066667      4  2010\n",
              "17 2010-05-01  32.840533 -117.245833     139.20    0.900000      5  2010\n",
              "18 2010-06-01  32.825550 -117.244900     152.25    1.450000      6  2010\n",
              "19 2010-07-01  32.825550 -117.244900     152.25    2.250000      7  2010\n",
              "20 2010-08-01  32.825550 -117.244900     152.25    0.000000      8  2010\n",
              "21 2010-09-01  32.840533 -117.245833     139.20    0.966667      9  2010\n",
              "22 2010-10-01  32.825700 -117.250100     149.70   64.100000     10  2010\n",
              "23 2010-11-01  32.840533 -117.245833     139.20   27.033333     11  2010\n",
              "24 2010-12-01  32.825550 -117.244900     152.25  166.200000     12  2010\n",
              "25 2011-01-01  32.840533 -117.245833     139.20   24.633333      1  2011\n",
              "26 2011-02-01  32.840533 -117.245833     139.20   45.966667      2  2011\n",
              "27 2011-03-01  32.840533 -117.245833     139.20   24.500000      3  2011\n",
              "28 2011-04-01  32.825550 -117.244900     152.25    6.800000      4  2011\n",
              "29 2011-05-01  32.840533 -117.245833     139.20   18.533333      5  2011\n",
              "..        ...        ...         ...        ...         ...    ...   ...\n",
              "65 2014-05-01  32.840533 -117.245833     139.20    0.000000      5  2014\n",
              "66 2014-06-01  32.825550 -117.244900     152.25    0.000000      6  2014\n",
              "67 2014-07-01  32.825550 -117.244900     152.25    8.750000      7  2014\n",
              "68 2014-08-01  32.825550 -117.244900     152.25    4.450000      8  2014\n",
              "69 2014-09-01  32.825550 -117.244900     152.25   10.300000      9  2014\n",
              "70 2014-10-01  32.825550 -117.244900     152.25    0.000000     10  2014\n",
              "71 2014-11-01  32.825550 -117.244900     152.25    9.250000     11  2014\n",
              "72 2014-12-01  32.825550 -117.244900     152.25   86.050000     12  2014\n",
              "73 2015-01-01  32.825550 -117.244900     152.25   18.100000      1  2015\n",
              "74 2015-02-01  32.825550 -117.244900     152.25    8.750000      2  2015\n",
              "75 2015-03-01  32.825550 -117.244900     152.25   27.200000      3  2015\n",
              "76 2015-04-01  32.825550 -117.244900     152.25    3.300000      4  2015\n",
              "77 2015-05-01  32.825550 -117.244900     152.25   30.850000      5  2015\n",
              "78 2015-06-01  32.825550 -117.244900     152.25    0.800000      6  2015\n",
              "79 2015-07-01  32.825550 -117.244900     152.25   38.050000      7  2015\n",
              "80 2015-08-01  32.825550 -117.244900     152.25    0.500000      8  2015\n",
              "81 2015-09-01  32.825550 -117.244900     152.25   28.600000      9  2015\n",
              "82 2015-10-01  32.825550 -117.244900     152.25   23.700000     10  2015\n",
              "83 2015-11-01  32.825550 -117.244900     152.25   48.250000     11  2015\n",
              "84 2015-12-01  32.825550 -117.244900     152.25   22.850000     12  2015\n",
              "85 2016-01-01  32.825550 -117.244900     152.25   67.500000      1  2016\n",
              "86 2016-02-01  32.825550 -117.244900     152.25   11.350000      2  2016\n",
              "87 2016-03-01  32.825550 -117.244900     152.25   25.100000      3  2016\n",
              "88 2016-04-01  32.825700 -117.250100     149.70   14.000000      4  2016\n",
              "89 2016-05-01  32.825700 -117.250100     149.70   26.200000      5  2016\n",
              "90 2016-06-01  32.825700 -117.250100     149.70    0.600000      6  2016\n",
              "91 2016-07-01  32.825700 -117.250100     149.70    0.000000      7  2016\n",
              "92 2016-08-01  32.825700 -117.250100     149.70    0.800000      8  2016\n",
              "93 2016-09-01  32.825700 -117.250100     149.70   11.900000      9  2016\n",
              "94 2016-10-01  32.825700 -117.250100     149.70    3.900000     10  2016\n",
              "\n",
              "[95 rows x 7 columns]"
            ]
          },
          "metadata": {
            "tags": []
          },
          "execution_count": 21
        }
      ]
    },
    {
      "cell_type": "code",
      "metadata": {
        "id": "prBKMcnYFTmk",
        "colab_type": "code",
        "colab": {
          "base_uri": "https://localhost:8080/",
          "height": 781
        },
        "outputId": "9a024c4a-6221-4cdf-d6df-d76a0a20c4c7"
      },
      "source": [
        "df.PRCP.round().value_counts()"
      ],
      "execution_count": 22,
      "outputs": [
        {
          "output_type": "execute_result",
          "data": {
            "text/plain": [
              "0.0      16\n",
              "1.0      12\n",
              "2.0       5\n",
              "9.0       4\n",
              "7.0       3\n",
              "25.0      3\n",
              "5.0       3\n",
              "4.0       3\n",
              "12.0      3\n",
              "11.0      2\n",
              "24.0      2\n",
              "29.0      2\n",
              "36.0      2\n",
              "31.0      2\n",
              "27.0      2\n",
              "8.0       2\n",
              "23.0      2\n",
              "10.0      2\n",
              "6.0       2\n",
              "80.0      1\n",
              "64.0      1\n",
              "140.0     1\n",
              "72.0      1\n",
              "15.0      1\n",
              "73.0      1\n",
              "47.0      1\n",
              "26.0      1\n",
              "19.0      1\n",
              "166.0     1\n",
              "46.0      1\n",
              "14.0      1\n",
              "67.0      1\n",
              "40.0      1\n",
              "87.0      1\n",
              "28.0      1\n",
              "86.0      1\n",
              "18.0      1\n",
              "3.0       1\n",
              "38.0      1\n",
              "48.0      1\n",
              "68.0      1\n",
              "112.0     1\n",
              "Name: PRCP, dtype: int64"
            ]
          },
          "metadata": {
            "tags": []
          },
          "execution_count": 22
        }
      ]
    },
    {
      "cell_type": "code",
      "metadata": {
        "id": "dXPjFWrNFTml",
        "colab_type": "code",
        "colab": {}
      },
      "source": [
        "# Regression .....yepeeee"
      ],
      "execution_count": 0,
      "outputs": []
    },
    {
      "cell_type": "code",
      "metadata": {
        "id": "oK-ffDCrFTmm",
        "colab_type": "code",
        "colab": {
          "base_uri": "https://localhost:8080/",
          "height": 300
        },
        "outputId": "e54ec8dc-e6ff-4375-c9a8-dd211c05066f"
      },
      "source": [
        "sns.regplot(x='MONTH', y='PRCP', data=df, order=1)"
      ],
      "execution_count": 24,
      "outputs": [
        {
          "output_type": "execute_result",
          "data": {
            "text/plain": [
              "<matplotlib.axes._subplots.AxesSubplot at 0x7fba19c9b0f0>"
            ]
          },
          "metadata": {
            "tags": []
          },
          "execution_count": 24
        },
        {
          "output_type": "display_data",
          "data": {
            "image/png": "[encoded data removed]",
            "text/plain": [
              "<Figure size 432x288 with 1 Axes>"
            ]
          },
          "metadata": {
            "tags": []
          }
        }
      ]
    },
    {
      "cell_type": "code",
      "metadata": {
        "id": "oOazdK53FTmo",
        "colab_type": "code",
        "colab": {
          "base_uri": "https://localhost:8080/",
          "height": 301
        },
        "outputId": "68e87b0f-9a38-4d01-f488-b4eae45e6333"
      },
      "source": [
        "sns.regplot(x='MONTH', y='PRCP', data=df, order=2)"
      ],
      "execution_count": 25,
      "outputs": [
        {
          "output_type": "execute_result",
          "data": {
            "text/plain": [
              "<matplotlib.axes._subplots.AxesSubplot at 0x7fba1738bdd8>"
            ]
          },
          "metadata": {
            "tags": []
          },
          "execution_count": 25
        },
        {
          "output_type": "display_data",
          "data": {
            "image/png": "[encoded data removed]",
            "text/plain": [
              "<Figure size 432x288 with 1 Axes>"
            ]
          },
          "metadata": {
            "tags": []
          }
        }
      ]
    },
    {
      "cell_type": "code",
      "metadata": {
        "id": "jpNQWobqFTmr",
        "colab_type": "code",
        "colab": {
          "base_uri": "https://localhost:8080/",
          "height": 286
        },
        "outputId": "4fd2b6db-7da0-45e5-880f-6e8a7aa80aae"
      },
      "source": [
        "plt.scatter(x='MONTH', y='PRCP', data=df)"
      ],
      "execution_count": 26,
      "outputs": [
        {
          "output_type": "execute_result",
          "data": {
            "text/plain": [
              "<matplotlib.collections.PathCollection at 0x7fba19c4b828>"
            ]
          },
          "metadata": {
            "tags": []
          },
          "execution_count": 26
        },
        {
          "output_type": "display_data",
          "data": {
            "image/png": "[encoded data removed]",
            "text/plain": [
              "<Figure size 432x288 with 1 Axes>"
            ]
          },
          "metadata": {
            "tags": []
          }
        }
      ]
    },
    {
      "cell_type": "code",
      "metadata": {
        "id": "qsbPgHIKFTms",
        "colab_type": "code",
        "colab": {}
      },
      "source": [
        "m, b = np.polyfit(df.MONTH, df.PRCP, 1)"
      ],
      "execution_count": 0,
      "outputs": []
    },
    {
      "cell_type": "code",
      "metadata": {
        "id": "OQ0w3yblFTmt",
        "colab_type": "code",
        "colab": {
          "base_uri": "https://localhost:8080/",
          "height": 268
        },
        "outputId": "ed9a56d6-0799-4d01-868d-3221f4161952"
      },
      "source": [
        "# plot scatter and polyfit\n",
        "plt.scatter(df.MONTH, df.PRCP)\n",
        "plt.plot(df.MONTH, m*df.MONTH + b, '-');"
      ],
      "execution_count": 28,
      "outputs": [
        {
          "output_type": "display_data",
          "data": {
            "image/png": "[encoded data removed]",
            "text/plain": [
              "<Figure size 432x288 with 1 Axes>"
            ]
          },
          "metadata": {
            "tags": []
          }
        }
      ]
    },
    {
      "cell_type": "code",
      "metadata": {
        "id": "EeyBV_fyFTmu",
        "colab_type": "code",
        "colab": {
          "base_uri": "https://localhost:8080/",
          "height": 268
        },
        "outputId": "8dc03b47-5645-4447-f3c1-37c6921a325a"
      },
      "source": [
        "# sort DataFrame by month, then re-plot\n",
        "df.sort_values('MONTH', inplace=True)\n",
        "plt.scatter(df.MONTH, df.PRCP)\n",
        "plt.plot(df.MONTH, m*df.MONTH + b, '-');"
      ],
      "execution_count": 29,
      "outputs": [
        {
          "output_type": "display_data",
          "data": {
            "image/png": "[encoded data removed]",
            "text/plain": [
              "<Figure size 432x288 with 1 Axes>"
            ]
          },
          "metadata": {
            "tags": []
          }
        }
      ]
    },
    {
      "cell_type": "code",
      "metadata": {
        "id": "31LUV4lkFTmw",
        "colab_type": "code",
        "colab": {}
      },
      "source": [
        "#2nd order"
      ],
      "execution_count": 0,
      "outputs": []
    },
    {
      "cell_type": "code",
      "metadata": {
        "id": "si9mdpoHFTmy",
        "colab_type": "code",
        "colab": {}
      },
      "source": [
        "\n",
        "# 2nd order with np.polyfit\n",
        "p = np.polyfit(df.MONTH, df.PRCP, 2)"
      ],
      "execution_count": 0,
      "outputs": []
    },
    {
      "cell_type": "code",
      "metadata": {
        "id": "_rqnw7heFTmz",
        "colab_type": "code",
        "colab": {
          "base_uri": "https://localhost:8080/",
          "height": 34
        },
        "outputId": "594ab73a-1efa-4daf-c52a-aa1fa0f799bf"
      },
      "source": [
        "# values of p are in decending orders\n",
        "p"
      ],
      "execution_count": 32,
      "outputs": [
        {
          "output_type": "execute_result",
          "data": {
            "text/plain": [
              "array([  1.68178223, -21.14169112,  67.38422486])"
            ]
          },
          "metadata": {
            "tags": []
          },
          "execution_count": 32
        }
      ]
    },
    {
      "cell_type": "code",
      "metadata": {
        "id": "XM84FxydFTm0",
        "colab_type": "code",
        "colab": {
          "base_uri": "https://localhost:8080/",
          "height": 194
        },
        "outputId": "eaa56148-75fc-42ae-9443-a432ad74237b"
      },
      "source": [
        "x1 = np.linspace(1,12)\n",
        "x1"
      ],
      "execution_count": 33,
      "outputs": [
        {
          "output_type": "execute_result",
          "data": {
            "text/plain": [
              "array([ 1.        ,  1.2244898 ,  1.44897959,  1.67346939,  1.89795918,\n",
              "        2.12244898,  2.34693878,  2.57142857,  2.79591837,  3.02040816,\n",
              "        3.24489796,  3.46938776,  3.69387755,  3.91836735,  4.14285714,\n",
              "        4.36734694,  4.59183673,  4.81632653,  5.04081633,  5.26530612,\n",
              "        5.48979592,  5.71428571,  5.93877551,  6.16326531,  6.3877551 ,\n",
              "        6.6122449 ,  6.83673469,  7.06122449,  7.28571429,  7.51020408,\n",
              "        7.73469388,  7.95918367,  8.18367347,  8.40816327,  8.63265306,\n",
              "        8.85714286,  9.08163265,  9.30612245,  9.53061224,  9.75510204,\n",
              "        9.97959184, 10.20408163, 10.42857143, 10.65306122, 10.87755102,\n",
              "       11.10204082, 11.32653061, 11.55102041, 11.7755102 , 12.        ])"
            ]
          },
          "metadata": {
            "tags": []
          },
          "execution_count": 33
        }
      ]
    },
    {
      "cell_type": "code",
      "metadata": {
        "id": "JsDfC-_QFTm2",
        "colab_type": "code",
        "colab": {
          "base_uri": "https://localhost:8080/",
          "height": 194
        },
        "outputId": "d36fa659-92b4-4ef6-d49e-c822e6e7abe6"
      },
      "source": [
        "y1 = np.polyval(p, x1)\n",
        "y1"
      ],
      "execution_count": 34,
      "outputs": [
        {
          "output_type": "execute_result",
          "data": {
            "text/plain": [
              "array([47.92431598, 44.01806249, 40.28131809, 36.71408276, 33.31635652,\n",
              "       30.08813935, 27.02943126, 24.14023226, 21.42054233, 18.87036149,\n",
              "       16.48968972, 14.27852703, 12.23687342, 10.36472889,  8.66209345,\n",
              "        7.12896708,  5.76534979,  4.57124158,  3.54664245,  2.6915524 ,\n",
              "        2.00597143,  1.48989954,  1.14333673,  0.966283  ,  0.95873835,\n",
              "        1.12070278,  1.45217628,  1.95315887,  2.62365054,  3.46365129,\n",
              "        4.47316111,  5.65218002,  7.00070801,  8.51874507, 10.20629122,\n",
              "       12.06334644, 14.08991075, 16.28598413, 18.6515666 , 21.18665814,\n",
              "       23.89125877, 26.76536847, 29.80898725, 33.02211512, 36.40475206,\n",
              "       39.95689808, 43.67855318, 47.56971737, 51.63039063, 55.86057297])"
            ]
          },
          "metadata": {
            "tags": []
          },
          "execution_count": 34
        }
      ]
    },
    {
      "cell_type": "code",
      "metadata": {
        "id": "uMazAFcOFTm3",
        "colab_type": "code",
        "colab": {
          "base_uri": "https://localhost:8080/",
          "height": 268
        },
        "outputId": "c2933709-c167-48a2-8c8a-80a50e26eff9"
      },
      "source": [
        "plt.scatter(df.MONTH, df.PRCP)\n",
        "plt.plot(x1, y1, '-');"
      ],
      "execution_count": 35,
      "outputs": [
        {
          "output_type": "display_data",
          "data": {
            "image/png": "[encoded data removed]",
            "text/plain": [
              "<Figure size 432x288 with 1 Axes>"
            ]
          },
          "metadata": {
            "tags": []
          }
        }
      ]
    },
    {
      "cell_type": "code",
      "metadata": {
        "id": "QaMwi7bzFTm4",
        "colab_type": "code",
        "colab": {}
      },
      "source": [
        "# 3rd order with np.polyfit\n",
        "p = np.polyfit(df.MONTH, df.PRCP, 3)"
      ],
      "execution_count": 0,
      "outputs": []
    },
    {
      "cell_type": "code",
      "metadata": {
        "id": "cioLZgcDFTm6",
        "colab_type": "code",
        "colab": {
          "base_uri": "https://localhost:8080/",
          "height": 34
        },
        "outputId": "a88784a1-072f-4a1b-ede7-9ac049bc9210"
      },
      "source": [
        "p"
      ],
      "execution_count": 37,
      "outputs": [
        {
          "output_type": "execute_result",
          "data": {
            "text/plain": [
              "array([ 0.2181916 , -2.5737477 ,  1.88384094, 37.59240367])"
            ]
          },
          "metadata": {
            "tags": []
          },
          "execution_count": 37
        }
      ]
    },
    {
      "cell_type": "code",
      "metadata": {
        "id": "e58BzkHnFTm7",
        "colab_type": "code",
        "colab": {
          "base_uri": "https://localhost:8080/",
          "height": 194
        },
        "outputId": "f50cbeac-37a2-46ef-cfd7-862437cf1ac3"
      },
      "source": [
        "y1 = np.polyval(p, x1)\n",
        "y1"
      ],
      "execution_count": 38,
      "outputs": [
        {
          "output_type": "execute_result",
          "data": {
            "text/plain": [
              "array([37.12068851, 36.44072722, 35.58214074, 34.5597399 , 33.38833551,\n",
              "       32.0827384 , 30.65775938, 29.12820928, 27.50889891, 25.81463909,\n",
              "       24.06024064, 22.26051438, 20.43027113, 18.58432171, 16.73747694,\n",
              "       14.90454764, 13.10034463, 11.33967872,  9.63736074,  8.00820151,\n",
              "        6.46701184,  5.02860256,  3.70778448,  2.51936842,  1.47816521,\n",
              "        0.59898566, -0.10335941, -0.61405918, -0.91830283, -1.00127954,\n",
              "       -0.84817849, -0.44418886,  0.22550017,  1.17569941,  2.4212197 ,\n",
              "        3.97687183,  5.85746665,  8.07781495, 10.65272758, 13.59701533,\n",
              "       16.92548904, 20.65295952, 24.7942376 , 29.36413408, 34.3774598 ,\n",
              "       39.84902557, 45.7936422 , 52.22612053, 59.16127136, 66.61390552])"
            ]
          },
          "metadata": {
            "tags": []
          },
          "execution_count": 38
        }
      ]
    },
    {
      "cell_type": "code",
      "metadata": {
        "id": "F03mCaaAFTm9",
        "colab_type": "code",
        "colab": {
          "base_uri": "https://localhost:8080/",
          "height": 268
        },
        "outputId": "e878ae93-9f99-4459-d722-3558e8596320"
      },
      "source": [
        "plt.scatter(df.MONTH, df.PRCP)\n",
        "plt.plot(x1, y1, '-');"
      ],
      "execution_count": 39,
      "outputs": [
        {
          "output_type": "display_data",
          "data": {
            "image/png": "[encoded data removed]",
            "text/plain": [
              "<Figure size 432x288 with 1 Axes>"
            ]
          },
          "metadata": {
            "tags": []
          }
        }
      ]
    },
    {
      "cell_type": "code",
      "metadata": {
        "id": "qS7CqXgpFTm_",
        "colab_type": "code",
        "colab": {
          "base_uri": "https://localhost:8080/",
          "height": 197
        },
        "outputId": "bc06eded-24de-43aa-adbf-ec52ebcffb58"
      },
      "source": [
        "df_moons = pd.read_excel('moons.xlsx')\n",
        "df_moons.head()"
      ],
      "execution_count": 40,
      "outputs": [
        {
          "output_type": "execute_result",
          "data": {
            "text/html": [
              "<div>\n",
              "<style scoped>\n",
              "    .dataframe tbody tr th:only-of-type {\n",
              "        vertical-align: middle;\n",
              "    }\n",
              "\n",
              "    .dataframe tbody tr th {\n",
              "        vertical-align: top;\n",
              "    }\n",
              "\n",
              "    .dataframe thead th {\n",
              "        text-align: right;\n",
              "    }\n",
              "</style>\n",
              "<table border=\"1\" class=\"dataframe\">\n",
              "  <thead>\n",
              "    <tr style=\"text-align: right;\">\n",
              "      <th></th>\n",
              "      <th>moon_name</th>\n",
              "      <th>planet_name</th>\n",
              "      <th>moon_planet_distance_km</th>\n",
              "      <th>moon_diameter_km</th>\n",
              "    </tr>\n",
              "  </thead>\n",
              "  <tbody>\n",
              "    <tr>\n",
              "      <th>0</th>\n",
              "      <td>Moon</td>\n",
              "      <td>Earth</td>\n",
              "      <td>384000</td>\n",
              "      <td>3476</td>\n",
              "    </tr>\n",
              "    <tr>\n",
              "      <th>1</th>\n",
              "      <td>Deimos</td>\n",
              "      <td>Mars</td>\n",
              "      <td>9270</td>\n",
              "      <td>20</td>\n",
              "    </tr>\n",
              "    <tr>\n",
              "      <th>2</th>\n",
              "      <td>Phobos</td>\n",
              "      <td>Mars</td>\n",
              "      <td>23460</td>\n",
              "      <td>8</td>\n",
              "    </tr>\n",
              "    <tr>\n",
              "      <th>3</th>\n",
              "      <td>Callisto</td>\n",
              "      <td>Jupiter</td>\n",
              "      <td>1883000</td>\n",
              "      <td>4800</td>\n",
              "    </tr>\n",
              "    <tr>\n",
              "      <th>4</th>\n",
              "      <td>Europa</td>\n",
              "      <td>Jupiter</td>\n",
              "      <td>670900</td>\n",
              "      <td>3126</td>\n",
              "    </tr>\n",
              "  </tbody>\n",
              "</table>\n",
              "</div>"
            ],
            "text/plain": [
              "  moon_name planet_name  moon_planet_distance_km  moon_diameter_km\n",
              "0      Moon       Earth                   384000              3476\n",
              "1    Deimos        Mars                     9270                20\n",
              "2    Phobos        Mars                    23460                 8\n",
              "3  Callisto     Jupiter                  1883000              4800\n",
              "4    Europa     Jupiter                   670900              3126"
            ]
          },
          "metadata": {
            "tags": []
          },
          "execution_count": 40
        }
      ]
    },
    {
      "cell_type": "code",
      "metadata": {
        "id": "UPVqvPTfFTnA",
        "colab_type": "code",
        "colab": {
          "base_uri": "https://localhost:8080/",
          "height": 197
        },
        "outputId": "3259ce1e-64f8-45b2-bae9-e9a1980d087a"
      },
      "source": [
        "df_planets = pd.read_excel('planets.xlsx')\n",
        "df_planets.head()"
      ],
      "execution_count": 41,
      "outputs": [
        {
          "output_type": "execute_result",
          "data": {
            "text/html": [
              "<div>\n",
              "<style scoped>\n",
              "    .dataframe tbody tr th:only-of-type {\n",
              "        vertical-align: middle;\n",
              "    }\n",
              "\n",
              "    .dataframe tbody tr th {\n",
              "        vertical-align: top;\n",
              "    }\n",
              "\n",
              "    .dataframe thead th {\n",
              "        text-align: right;\n",
              "    }\n",
              "</style>\n",
              "<table border=\"1\" class=\"dataframe\">\n",
              "  <thead>\n",
              "    <tr style=\"text-align: right;\">\n",
              "      <th></th>\n",
              "      <th>planet_name</th>\n",
              "      <th>planet_diameter_km</th>\n",
              "      <th>planet_sun_distance_km</th>\n",
              "      <th>planet_sun_distance_au</th>\n",
              "    </tr>\n",
              "  </thead>\n",
              "  <tbody>\n",
              "    <tr>\n",
              "      <th>0</th>\n",
              "      <td>Earth</td>\n",
              "      <td>12742</td>\n",
              "      <td>1.495979e+08</td>\n",
              "      <td>1.000</td>\n",
              "    </tr>\n",
              "    <tr>\n",
              "      <th>1</th>\n",
              "      <td>Mars</td>\n",
              "      <td>6779</td>\n",
              "      <td>2.281368e+08</td>\n",
              "      <td>1.525</td>\n",
              "    </tr>\n",
              "    <tr>\n",
              "      <th>2</th>\n",
              "      <td>Jupiter</td>\n",
              "      <td>139822</td>\n",
              "      <td>7.786569e+08</td>\n",
              "      <td>5.205</td>\n",
              "    </tr>\n",
              "    <tr>\n",
              "      <th>3</th>\n",
              "      <td>Saturn</td>\n",
              "      <td>116464</td>\n",
              "      <td>1.427912e+09</td>\n",
              "      <td>9.545</td>\n",
              "    </tr>\n",
              "    <tr>\n",
              "      <th>4</th>\n",
              "      <td>Uranus</td>\n",
              "      <td>50724</td>\n",
              "      <td>2.872279e+09</td>\n",
              "      <td>19.200</td>\n",
              "    </tr>\n",
              "  </tbody>\n",
              "</table>\n",
              "</div>"
            ],
            "text/plain": [
              "  planet_name  ...  planet_sun_distance_au\n",
              "0       Earth  ...                   1.000\n",
              "1        Mars  ...                   1.525\n",
              "2     Jupiter  ...                   5.205\n",
              "3      Saturn  ...                   9.545\n",
              "4      Uranus  ...                  19.200\n",
              "\n",
              "[5 rows x 4 columns]"
            ]
          },
          "metadata": {
            "tags": []
          },
          "execution_count": 41
        }
      ]
    },
    {
      "cell_type": "code",
      "metadata": {
        "id": "PUjo2EOPFTnB",
        "colab_type": "code",
        "colab": {}
      },
      "source": [
        "df_solar = pd.merge(df_moons, df_planets, left_on='planet_name', right_on='planet_name')"
      ],
      "execution_count": 0,
      "outputs": []
    },
    {
      "cell_type": "code",
      "metadata": {
        "id": "X7cNJWwdFTnD",
        "colab_type": "code",
        "colab": {
          "base_uri": "https://localhost:8080/",
          "height": 197
        },
        "outputId": "b16d2490-ad82-46a7-d220-9aae2e1dd739"
      },
      "source": [
        "df_solar.head()"
      ],
      "execution_count": 43,
      "outputs": [
        {
          "output_type": "execute_result",
          "data": {
            "text/html": [
              "<div>\n",
              "<style scoped>\n",
              "    .dataframe tbody tr th:only-of-type {\n",
              "        vertical-align: middle;\n",
              "    }\n",
              "\n",
              "    .dataframe tbody tr th {\n",
              "        vertical-align: top;\n",
              "    }\n",
              "\n",
              "    .dataframe thead th {\n",
              "        text-align: right;\n",
              "    }\n",
              "</style>\n",
              "<table border=\"1\" class=\"dataframe\">\n",
              "  <thead>\n",
              "    <tr style=\"text-align: right;\">\n",
              "      <th></th>\n",
              "      <th>moon_name</th>\n",
              "      <th>planet_name</th>\n",
              "      <th>moon_planet_distance_km</th>\n",
              "      <th>moon_diameter_km</th>\n",
              "      <th>planet_diameter_km</th>\n",
              "      <th>planet_sun_distance_km</th>\n",
              "      <th>planet_sun_distance_au</th>\n",
              "    </tr>\n",
              "  </thead>\n",
              "  <tbody>\n",
              "    <tr>\n",
              "      <th>0</th>\n",
              "      <td>Moon</td>\n",
              "      <td>Earth</td>\n",
              "      <td>384000</td>\n",
              "      <td>3476</td>\n",
              "      <td>12742</td>\n",
              "      <td>1.495979e+08</td>\n",
              "      <td>1.000</td>\n",
              "    </tr>\n",
              "    <tr>\n",
              "      <th>1</th>\n",
              "      <td>Deimos</td>\n",
              "      <td>Mars</td>\n",
              "      <td>9270</td>\n",
              "      <td>20</td>\n",
              "      <td>6779</td>\n",
              "      <td>2.281368e+08</td>\n",
              "      <td>1.525</td>\n",
              "    </tr>\n",
              "    <tr>\n",
              "      <th>2</th>\n",
              "      <td>Phobos</td>\n",
              "      <td>Mars</td>\n",
              "      <td>23460</td>\n",
              "      <td>8</td>\n",
              "      <td>6779</td>\n",
              "      <td>2.281368e+08</td>\n",
              "      <td>1.525</td>\n",
              "    </tr>\n",
              "    <tr>\n",
              "      <th>3</th>\n",
              "      <td>Callisto</td>\n",
              "      <td>Jupiter</td>\n",
              "      <td>1883000</td>\n",
              "      <td>4800</td>\n",
              "      <td>139822</td>\n",
              "      <td>7.786569e+08</td>\n",
              "      <td>5.205</td>\n",
              "    </tr>\n",
              "    <tr>\n",
              "      <th>4</th>\n",
              "      <td>Europa</td>\n",
              "      <td>Jupiter</td>\n",
              "      <td>670900</td>\n",
              "      <td>3126</td>\n",
              "      <td>139822</td>\n",
              "      <td>7.786569e+08</td>\n",
              "      <td>5.205</td>\n",
              "    </tr>\n",
              "  </tbody>\n",
              "</table>\n",
              "</div>"
            ],
            "text/plain": [
              "  moon_name planet_name  ...  planet_sun_distance_km  planet_sun_distance_au\n",
              "0      Moon       Earth  ...            1.495979e+08                   1.000\n",
              "1    Deimos        Mars  ...            2.281368e+08                   1.525\n",
              "2    Phobos        Mars  ...            2.281368e+08                   1.525\n",
              "3  Callisto     Jupiter  ...            7.786569e+08                   5.205\n",
              "4    Europa     Jupiter  ...            7.786569e+08                   5.205\n",
              "\n",
              "[5 rows x 7 columns]"
            ]
          },
          "metadata": {
            "tags": []
          },
          "execution_count": 43
        }
      ]
    },
    {
      "cell_type": "code",
      "metadata": {
        "scrolled": true,
        "id": "h_REOifIFTnF",
        "colab_type": "code",
        "colab": {
          "base_uri": "https://localhost:8080/",
          "height": 737
        },
        "outputId": "1d9495bc-d440-4299-fabc-efb84f010f85"
      },
      "source": [
        "df_solar['moon_volume_km3'] = 4/3*np.pi*(df_solar.moon_diameter_km/2)**3\n",
        "df_solar['planet_volume_km3'] = 4/3*np.pi*(df_solar.planet_diameter_km/2)**3\n",
        "df_solar"
      ],
      "execution_count": 44,
      "outputs": [
        {
          "output_type": "execute_result",
          "data": {
            "text/html": [
              "<div>\n",
              "<style scoped>\n",
              "    .dataframe tbody tr th:only-of-type {\n",
              "        vertical-align: middle;\n",
              "    }\n",
              "\n",
              "    .dataframe tbody tr th {\n",
              "        vertical-align: top;\n",
              "    }\n",
              "\n",
              "    .dataframe thead th {\n",
              "        text-align: right;\n",
              "    }\n",
              "</style>\n",
              "<table border=\"1\" class=\"dataframe\">\n",
              "  <thead>\n",
              "    <tr style=\"text-align: right;\">\n",
              "      <th></th>\n",
              "      <th>moon_name</th>\n",
              "      <th>planet_name</th>\n",
              "      <th>moon_planet_distance_km</th>\n",
              "      <th>moon_diameter_km</th>\n",
              "      <th>planet_diameter_km</th>\n",
              "      <th>planet_sun_distance_km</th>\n",
              "      <th>planet_sun_distance_au</th>\n",
              "      <th>moon_volume_km3</th>\n",
              "      <th>planet_volume_km3</th>\n",
              "    </tr>\n",
              "  </thead>\n",
              "  <tbody>\n",
              "    <tr>\n",
              "      <th>0</th>\n",
              "      <td>Moon</td>\n",
              "      <td>Earth</td>\n",
              "      <td>384000</td>\n",
              "      <td>3476</td>\n",
              "      <td>12742</td>\n",
              "      <td>1.495979e+08</td>\n",
              "      <td>1.000</td>\n",
              "      <td>2.199064e+10</td>\n",
              "      <td>1.083207e+12</td>\n",
              "    </tr>\n",
              "    <tr>\n",
              "      <th>1</th>\n",
              "      <td>Deimos</td>\n",
              "      <td>Mars</td>\n",
              "      <td>9270</td>\n",
              "      <td>20</td>\n",
              "      <td>6779</td>\n",
              "      <td>2.281368e+08</td>\n",
              "      <td>1.525</td>\n",
              "      <td>4.188790e+03</td>\n",
              "      <td>1.631156e+11</td>\n",
              "    </tr>\n",
              "    <tr>\n",
              "      <th>2</th>\n",
              "      <td>Phobos</td>\n",
              "      <td>Mars</td>\n",
              "      <td>23460</td>\n",
              "      <td>8</td>\n",
              "      <td>6779</td>\n",
              "      <td>2.281368e+08</td>\n",
              "      <td>1.525</td>\n",
              "      <td>2.680826e+02</td>\n",
              "      <td>1.631156e+11</td>\n",
              "    </tr>\n",
              "    <tr>\n",
              "      <th>3</th>\n",
              "      <td>Callisto</td>\n",
              "      <td>Jupiter</td>\n",
              "      <td>1883000</td>\n",
              "      <td>4800</td>\n",
              "      <td>139822</td>\n",
              "      <td>7.786569e+08</td>\n",
              "      <td>5.205</td>\n",
              "      <td>5.790584e+10</td>\n",
              "      <td>1.431282e+15</td>\n",
              "    </tr>\n",
              "    <tr>\n",
              "      <th>4</th>\n",
              "      <td>Europa</td>\n",
              "      <td>Jupiter</td>\n",
              "      <td>670900</td>\n",
              "      <td>3126</td>\n",
              "      <td>139822</td>\n",
              "      <td>7.786569e+08</td>\n",
              "      <td>5.205</td>\n",
              "      <td>1.599431e+10</td>\n",
              "      <td>1.431282e+15</td>\n",
              "    </tr>\n",
              "    <tr>\n",
              "      <th>5</th>\n",
              "      <td>Ganymede</td>\n",
              "      <td>Jupiter</td>\n",
              "      <td>1070000</td>\n",
              "      <td>5276</td>\n",
              "      <td>139822</td>\n",
              "      <td>7.786569e+08</td>\n",
              "      <td>5.205</td>\n",
              "      <td>7.689763e+10</td>\n",
              "      <td>1.431282e+15</td>\n",
              "    </tr>\n",
              "    <tr>\n",
              "      <th>6</th>\n",
              "      <td>Io</td>\n",
              "      <td>Jupiter</td>\n",
              "      <td>421600</td>\n",
              "      <td>3629</td>\n",
              "      <td>139822</td>\n",
              "      <td>7.786569e+08</td>\n",
              "      <td>5.205</td>\n",
              "      <td>2.502416e+10</td>\n",
              "      <td>1.431282e+15</td>\n",
              "    </tr>\n",
              "    <tr>\n",
              "      <th>7</th>\n",
              "      <td>Dione</td>\n",
              "      <td>Saturn</td>\n",
              "      <td>377400</td>\n",
              "      <td>1120</td>\n",
              "      <td>116464</td>\n",
              "      <td>1.427912e+09</td>\n",
              "      <td>9.545</td>\n",
              "      <td>7.356186e+08</td>\n",
              "      <td>8.271299e+14</td>\n",
              "    </tr>\n",
              "    <tr>\n",
              "      <th>8</th>\n",
              "      <td>Enceladus</td>\n",
              "      <td>Saturn</td>\n",
              "      <td>238020</td>\n",
              "      <td>498</td>\n",
              "      <td>116464</td>\n",
              "      <td>1.427912e+09</td>\n",
              "      <td>9.545</td>\n",
              "      <td>6.466759e+07</td>\n",
              "      <td>8.271299e+14</td>\n",
              "    </tr>\n",
              "    <tr>\n",
              "      <th>9</th>\n",
              "      <td>Hyperion</td>\n",
              "      <td>Saturn</td>\n",
              "      <td>1481000</td>\n",
              "      <td>226</td>\n",
              "      <td>116464</td>\n",
              "      <td>1.427912e+09</td>\n",
              "      <td>9.545</td>\n",
              "      <td>6.043993e+06</td>\n",
              "      <td>8.271299e+14</td>\n",
              "    </tr>\n",
              "    <tr>\n",
              "      <th>10</th>\n",
              "      <td>Iapetus</td>\n",
              "      <td>Saturn</td>\n",
              "      <td>3561300</td>\n",
              "      <td>1436</td>\n",
              "      <td>116464</td>\n",
              "      <td>1.427912e+09</td>\n",
              "      <td>9.545</td>\n",
              "      <td>1.550465e+09</td>\n",
              "      <td>8.271299e+14</td>\n",
              "    </tr>\n",
              "    <tr>\n",
              "      <th>11</th>\n",
              "      <td>Mimas</td>\n",
              "      <td>Saturn</td>\n",
              "      <td>185520</td>\n",
              "      <td>398</td>\n",
              "      <td>116464</td>\n",
              "      <td>1.427912e+09</td>\n",
              "      <td>9.545</td>\n",
              "      <td>3.301018e+07</td>\n",
              "      <td>8.271299e+14</td>\n",
              "    </tr>\n",
              "    <tr>\n",
              "      <th>12</th>\n",
              "      <td>Phoebe</td>\n",
              "      <td>Saturn</td>\n",
              "      <td>12952000</td>\n",
              "      <td>220</td>\n",
              "      <td>116464</td>\n",
              "      <td>1.427912e+09</td>\n",
              "      <td>9.545</td>\n",
              "      <td>5.575280e+06</td>\n",
              "      <td>8.271299e+14</td>\n",
              "    </tr>\n",
              "    <tr>\n",
              "      <th>13</th>\n",
              "      <td>Rhea</td>\n",
              "      <td>Saturn</td>\n",
              "      <td>527040</td>\n",
              "      <td>1528</td>\n",
              "      <td>116464</td>\n",
              "      <td>1.427912e+09</td>\n",
              "      <td>9.545</td>\n",
              "      <td>1.867965e+09</td>\n",
              "      <td>8.271299e+14</td>\n",
              "    </tr>\n",
              "    <tr>\n",
              "      <th>14</th>\n",
              "      <td>Tethys</td>\n",
              "      <td>Saturn</td>\n",
              "      <td>294660</td>\n",
              "      <td>1060</td>\n",
              "      <td>116464</td>\n",
              "      <td>1.427912e+09</td>\n",
              "      <td>9.545</td>\n",
              "      <td>6.236145e+08</td>\n",
              "      <td>8.271299e+14</td>\n",
              "    </tr>\n",
              "    <tr>\n",
              "      <th>15</th>\n",
              "      <td>Titan</td>\n",
              "      <td>Saturn</td>\n",
              "      <td>1221850</td>\n",
              "      <td>5150</td>\n",
              "      <td>116464</td>\n",
              "      <td>1.427912e+09</td>\n",
              "      <td>9.545</td>\n",
              "      <td>7.151881e+10</td>\n",
              "      <td>8.271299e+14</td>\n",
              "    </tr>\n",
              "    <tr>\n",
              "      <th>16</th>\n",
              "      <td>Ariel</td>\n",
              "      <td>Uranus</td>\n",
              "      <td>191240</td>\n",
              "      <td>1160</td>\n",
              "      <td>50724</td>\n",
              "      <td>2.872279e+09</td>\n",
              "      <td>19.200</td>\n",
              "      <td>8.172832e+08</td>\n",
              "      <td>6.833436e+13</td>\n",
              "    </tr>\n",
              "    <tr>\n",
              "      <th>17</th>\n",
              "      <td>Miranda</td>\n",
              "      <td>Uranus</td>\n",
              "      <td>129780</td>\n",
              "      <td>472</td>\n",
              "      <td>50724</td>\n",
              "      <td>2.872279e+09</td>\n",
              "      <td>19.200</td>\n",
              "      <td>5.505853e+07</td>\n",
              "      <td>6.833436e+13</td>\n",
              "    </tr>\n",
              "    <tr>\n",
              "      <th>18</th>\n",
              "      <td>Oberon</td>\n",
              "      <td>Uranus</td>\n",
              "      <td>582600</td>\n",
              "      <td>1526</td>\n",
              "      <td>50724</td>\n",
              "      <td>2.872279e+09</td>\n",
              "      <td>19.200</td>\n",
              "      <td>1.860639e+09</td>\n",
              "      <td>6.833436e+13</td>\n",
              "    </tr>\n",
              "    <tr>\n",
              "      <th>19</th>\n",
              "      <td>Titania</td>\n",
              "      <td>Uranus</td>\n",
              "      <td>435840</td>\n",
              "      <td>1580</td>\n",
              "      <td>50724</td>\n",
              "      <td>2.872279e+09</td>\n",
              "      <td>19.200</td>\n",
              "      <td>2.065237e+09</td>\n",
              "      <td>6.833436e+13</td>\n",
              "    </tr>\n",
              "    <tr>\n",
              "      <th>20</th>\n",
              "      <td>Umbriel</td>\n",
              "      <td>Uranus</td>\n",
              "      <td>265970</td>\n",
              "      <td>1190</td>\n",
              "      <td>50724</td>\n",
              "      <td>2.872279e+09</td>\n",
              "      <td>19.200</td>\n",
              "      <td>8.823472e+08</td>\n",
              "      <td>6.833436e+13</td>\n",
              "    </tr>\n",
              "    <tr>\n",
              "      <th>21</th>\n",
              "      <td>Nereid</td>\n",
              "      <td>Neptune</td>\n",
              "      <td>5513400</td>\n",
              "      <td>340</td>\n",
              "      <td>49244</td>\n",
              "      <td>4.495416e+09</td>\n",
              "      <td>30.050</td>\n",
              "      <td>2.057953e+07</td>\n",
              "      <td>6.252570e+13</td>\n",
              "    </tr>\n",
              "    <tr>\n",
              "      <th>22</th>\n",
              "      <td>Triton</td>\n",
              "      <td>Neptune</td>\n",
              "      <td>354800</td>\n",
              "      <td>2705</td>\n",
              "      <td>49244</td>\n",
              "      <td>4.495416e+09</td>\n",
              "      <td>30.050</td>\n",
              "      <td>1.036336e+10</td>\n",
              "      <td>6.252570e+13</td>\n",
              "    </tr>\n",
              "  </tbody>\n",
              "</table>\n",
              "</div>"
            ],
            "text/plain": [
              "    moon_name planet_name  ...  moon_volume_km3  planet_volume_km3\n",
              "0        Moon       Earth  ...     2.199064e+10       1.083207e+12\n",
              "1      Deimos        Mars  ...     4.188790e+03       1.631156e+11\n",
              "2      Phobos        Mars  ...     2.680826e+02       1.631156e+11\n",
              "3    Callisto     Jupiter  ...     5.790584e+10       1.431282e+15\n",
              "4      Europa     Jupiter  ...     1.599431e+10       1.431282e+15\n",
              "5    Ganymede     Jupiter  ...     7.689763e+10       1.431282e+15\n",
              "6          Io     Jupiter  ...     2.502416e+10       1.431282e+15\n",
              "7       Dione      Saturn  ...     7.356186e+08       8.271299e+14\n",
              "8   Enceladus      Saturn  ...     6.466759e+07       8.271299e+14\n",
              "9    Hyperion      Saturn  ...     6.043993e+06       8.271299e+14\n",
              "10    Iapetus      Saturn  ...     1.550465e+09       8.271299e+14\n",
              "11      Mimas      Saturn  ...     3.301018e+07       8.271299e+14\n",
              "12     Phoebe      Saturn  ...     5.575280e+06       8.271299e+14\n",
              "13       Rhea      Saturn  ...     1.867965e+09       8.271299e+14\n",
              "14     Tethys      Saturn  ...     6.236145e+08       8.271299e+14\n",
              "15      Titan      Saturn  ...     7.151881e+10       8.271299e+14\n",
              "16      Ariel      Uranus  ...     8.172832e+08       6.833436e+13\n",
              "17    Miranda      Uranus  ...     5.505853e+07       6.833436e+13\n",
              "18     Oberon      Uranus  ...     1.860639e+09       6.833436e+13\n",
              "19    Titania      Uranus  ...     2.065237e+09       6.833436e+13\n",
              "20    Umbriel      Uranus  ...     8.823472e+08       6.833436e+13\n",
              "21     Nereid     Neptune  ...     2.057953e+07       6.252570e+13\n",
              "22     Triton     Neptune  ...     1.036336e+10       6.252570e+13\n",
              "\n",
              "[23 rows x 9 columns]"
            ]
          },
          "metadata": {
            "tags": []
          },
          "execution_count": 44
        }
      ]
    },
    {
      "cell_type": "markdown",
      "metadata": {
        "id": "huP14zYGFTnH",
        "colab_type": "text"
      },
      "source": [
        "# Correlation "
      ]
    },
    {
      "cell_type": "code",
      "metadata": {
        "id": "RUYh6994FTnH",
        "colab_type": "code",
        "colab": {
          "base_uri": "https://localhost:8080/",
          "height": 34
        },
        "outputId": "6296338c-0333-4982-8b7e-4282779fad42"
      },
      "source": [
        "pearson_r_diameter, pearson_p_diameter = scipy.stats.pearsonr(df_solar.planet_diameter_km, df_solar.moon_diameter_km)\n",
        "pearson_r_diameter, pearson_p_diameter"
      ],
      "execution_count": 45,
      "outputs": [
        {
          "output_type": "execute_result",
          "data": {
            "text/plain": [
              "(0.39231409401451867, 0.06408634688502739)"
            ]
          },
          "metadata": {
            "tags": []
          },
          "execution_count": 45
        }
      ]
    },
    {
      "cell_type": "code",
      "metadata": {
        "id": "PCbR-rcEFTnK",
        "colab_type": "code",
        "colab": {
          "base_uri": "https://localhost:8080/",
          "height": 34
        },
        "outputId": "b43d28e2-d790-4f52-d1fb-ed60e282f6c9"
      },
      "source": [
        "pearson_r_volume, pearson_p_volume = scipy.stats.pearsonr(df_solar.planet_volume_km3, df_solar.moon_volume_km3)\n",
        "pearson_r_volume, pearson_p_volume"
      ],
      "execution_count": 46,
      "outputs": [
        {
          "output_type": "execute_result",
          "data": {
            "text/plain": [
              "(0.5186568153916278, 0.011223179377141755)"
            ]
          },
          "metadata": {
            "tags": []
          },
          "execution_count": 46
        }
      ]
    },
    {
      "cell_type": "code",
      "metadata": {
        "id": "9jrCpx6oFTnL",
        "colab_type": "code",
        "colab": {
          "base_uri": "https://localhost:8080/",
          "height": 34
        },
        "outputId": "c053546b-0ef3-4f5b-8b9f-8c02f64202eb"
      },
      "source": [
        "spearman_r_diameter, spearman_p_diameter = scipy.stats.spearmanr(df_solar.planet_diameter_km, df_solar.moon_diameter_km)\n",
        "spearman_r_diameter, spearman_p_diameter"
      ],
      "execution_count": 47,
      "outputs": [
        {
          "output_type": "execute_result",
          "data": {
            "text/plain": [
              "(0.453630792978124, 0.029697361455537457)"
            ]
          },
          "metadata": {
            "tags": []
          },
          "execution_count": 47
        }
      ]
    },
    {
      "cell_type": "code",
      "metadata": {
        "id": "HQdIRJMqFTnM",
        "colab_type": "code",
        "colab": {
          "base_uri": "https://localhost:8080/",
          "height": 34
        },
        "outputId": "ccd76227-7dcf-4db0-bf14-e2f73ab1aebb"
      },
      "source": [
        "spearman_r_volume, spearman_p_volume = scipy.stats.spearmanr(df_solar.planet_volume_km3, df_solar.moon_volume_km3)\n",
        "spearman_r_volume, spearman_p_volume"
      ],
      "execution_count": 48,
      "outputs": [
        {
          "output_type": "execute_result",
          "data": {
            "text/plain": [
              "(0.453630792978124, 0.029697361455537457)"
            ]
          },
          "metadata": {
            "tags": []
          },
          "execution_count": 48
        }
      ]
    },
    {
      "cell_type": "code",
      "metadata": {
        "id": "d1KTk33IFTnO",
        "colab_type": "code",
        "colab": {
          "base_uri": "https://localhost:8080/",
          "height": 345
        },
        "outputId": "22ce7c06-1c57-4e3e-ee33-0f4fb6940aa4"
      },
      "source": [
        "fig, ax = plt.subplots(1, 2, figsize=(10,5))\n",
        "sns.regplot(x='planet_diameter_km', y='moon_diameter_km', data=df_solar, ax=ax[0])\n",
        "sns.regplot(x='planet_volume_km3', y='moon_volume_km3', data=df_solar, ax=ax[1]);"
      ],
      "execution_count": 49,
      "outputs": [
        {
          "output_type": "display_data",
          "data": {
            "image/png": "[encoded data removed]",
            "text/plain": [
              "<Figure size 720x360 with 2 Axes>"
            ]
          },
          "metadata": {
            "tags": []
          }
        }
      ]
    },
    {
      "cell_type": "code",
      "metadata": {
        "id": "qC-Gk4YqFTnP",
        "colab_type": "code",
        "colab": {}
      },
      "source": [
        "# calculate moon diameters and volumes relative to host planets\n",
        "df_solar['moon_planet_relative_diameter'] = df_solar.moon_diameter_km/df_solar.planet_diameter_km\n",
        "df_solar['moon_planet_relative_volume'] = df_solar.moon_volume_km3/df_solar.planet_volume_km3"
      ],
      "execution_count": 0,
      "outputs": []
    },
    {
      "cell_type": "code",
      "metadata": {
        "id": "spE1SgJpFTnQ",
        "colab_type": "code",
        "colab": {
          "base_uri": "https://localhost:8080/",
          "height": 368
        },
        "outputId": "7d45abc8-fecb-493d-9e39-12e51ebc4065"
      },
      "source": [
        "# plot scatter plots\n",
        "fig, ax = plt.subplots(1, 2, figsize=(10,5))\n",
        "\n",
        "ax[0].scatter(df_solar.moon_diameter_km, df_solar.moon_planet_relative_diameter)\n",
        "ax[0].set_xlabel('moon_diameter_km')\n",
        "ax[0].set_ylabel('moon_planet_relative_diameter')\n",
        "\n",
        "ax[1].scatter(df_solar.moon_volume_km3, df_solar.moon_planet_relative_volume)\n",
        "ax[1].set_xlabel('moon_volume_km3')\n",
        "ax[1].set_ylabel('moon_planet_relative_volume')\n",
        "\n",
        "fig.tight_layout()"
      ],
      "execution_count": 51,
      "outputs": [
        {
          "output_type": "display_data",
          "data": {
            "image/png": "[encoded data removed]",
            "text/plain": [
              "<Figure size 720x360 with 2 Axes>"
            ]
          },
          "metadata": {
            "tags": []
          }
        }
      ]
    },
    {
      "cell_type": "markdown",
      "metadata": {
        "id": "3jw6Pg3kFTnS",
        "colab_type": "text"
      },
      "source": [
        "# plot distributions"
      ]
    },
    {
      "cell_type": "code",
      "metadata": {
        "id": "HWr_A8N0FTnS",
        "colab_type": "code",
        "colab": {
          "base_uri": "https://localhost:8080/",
          "height": 337
        },
        "outputId": "3226ffef-438b-4977-ef8a-600d531c0eeb"
      },
      "source": [
        "fig, ax = plt.subplots(1, 2, figsize=(10,5))\n",
        "sns.distplot(df_solar.moon_planet_relative_diameter, rug=True, bins=20, ax=ax[0])\n",
        "sns.distplot(df_solar.moon_planet_relative_volume, hist=False, kde=False, rug=True, bins=20, ax=ax[1]);\n",
        "#ax[1].set_xscale('log')"
      ],
      "execution_count": 52,
      "outputs": [
        {
          "output_type": "display_data",
          "data": {
            "image/png": "[encoded data removed]",
            "text/plain": [
              "<Figure size 720x360 with 2 Axes>"
            ]
          },
          "metadata": {
            "tags": []
          }
        }
      ]
    },
    {
      "cell_type": "code",
      "metadata": {
        "id": "1YR7NMkrFTnU",
        "colab_type": "code",
        "colab": {
          "base_uri": "https://localhost:8080/",
          "height": 34
        },
        "outputId": "00d6a098-60fa-45a8-bd0c-b3f4eb813d41"
      },
      "source": [
        "# print outliers from the dataset - relative diameter\n",
        "grubbs.max_test_outliers(df_solar.moon_planet_relative_diameter, alpha=0.05)"
      ],
      "execution_count": 53,
      "outputs": [
        {
          "output_type": "execute_result",
          "data": {
            "text/plain": [
              "[0.27279861874117095]"
            ]
          },
          "metadata": {
            "tags": []
          },
          "execution_count": 53
        }
      ]
    },
    {
      "cell_type": "markdown",
      "metadata": {
        "id": "TBYycE5WFTnV",
        "colab_type": "text"
      },
      "source": [
        "# Remove outliers"
      ]
    },
    {
      "cell_type": "code",
      "metadata": {
        "id": "hIHKSRk6FTnW",
        "colab_type": "code",
        "colab": {
          "base_uri": "https://localhost:8080/",
          "height": 425
        },
        "outputId": "28283927-0afa-4b4f-deee-709e7f86f38f"
      },
      "source": [
        "# remove outliers - relative diameter\n",
        "moon_planet_rel_diam_no_outliers = grubbs.test(df_solar.moon_planet_relative_diameter, alpha=0.05)\n",
        "moon_planet_rel_diam_no_outliers\n",
        "# This alpha is p-value cutoff"
      ],
      "execution_count": 54,
      "outputs": [
        {
          "output_type": "execute_result",
          "data": {
            "text/plain": [
              "1     0.002950\n",
              "2     0.001180\n",
              "3     0.034329\n",
              "4     0.022357\n",
              "5     0.037734\n",
              "6     0.025954\n",
              "7     0.009617\n",
              "8     0.004276\n",
              "9     0.001941\n",
              "10    0.012330\n",
              "11    0.003417\n",
              "12    0.001889\n",
              "13    0.013120\n",
              "14    0.009102\n",
              "15    0.044220\n",
              "16    0.022869\n",
              "17    0.009305\n",
              "18    0.030084\n",
              "19    0.031149\n",
              "20    0.023460\n",
              "21    0.006904\n",
              "22    0.054931\n",
              "Name: moon_planet_relative_diameter, dtype: float64"
            ]
          },
          "metadata": {
            "tags": []
          },
          "execution_count": 54
        }
      ]
    },
    {
      "cell_type": "code",
      "metadata": {
        "id": "tovPMuIGFTnY",
        "colab_type": "code",
        "colab": {
          "base_uri": "https://localhost:8080/",
          "height": 737
        },
        "outputId": "31a49c7f-2b34-4cb4-b59a-3c3c863284ee"
      },
      "source": [
        "df_solar"
      ],
      "execution_count": 55,
      "outputs": [
        {
          "output_type": "execute_result",
          "data": {
            "text/html": [
              "<div>\n",
              "<style scoped>\n",
              "    .dataframe tbody tr th:only-of-type {\n",
              "        vertical-align: middle;\n",
              "    }\n",
              "\n",
              "    .dataframe tbody tr th {\n",
              "        vertical-align: top;\n",
              "    }\n",
              "\n",
              "    .dataframe thead th {\n",
              "        text-align: right;\n",
              "    }\n",
              "</style>\n",
              "<table border=\"1\" class=\"dataframe\">\n",
              "  <thead>\n",
              "    <tr style=\"text-align: right;\">\n",
              "      <th></th>\n",
              "      <th>moon_name</th>\n",
              "      <th>planet_name</th>\n",
              "      <th>moon_planet_distance_km</th>\n",
              "      <th>moon_diameter_km</th>\n",
              "      <th>planet_diameter_km</th>\n",
              "      <th>planet_sun_distance_km</th>\n",
              "      <th>planet_sun_distance_au</th>\n",
              "      <th>moon_volume_km3</th>\n",
              "      <th>planet_volume_km3</th>\n",
              "      <th>moon_planet_relative_diameter</th>\n",
              "      <th>moon_planet_relative_volume</th>\n",
              "    </tr>\n",
              "  </thead>\n",
              "  <tbody>\n",
              "    <tr>\n",
              "      <th>0</th>\n",
              "      <td>Moon</td>\n",
              "      <td>Earth</td>\n",
              "      <td>384000</td>\n",
              "      <td>3476</td>\n",
              "      <td>12742</td>\n",
              "      <td>1.495979e+08</td>\n",
              "      <td>1.000</td>\n",
              "      <td>2.199064e+10</td>\n",
              "      <td>1.083207e+12</td>\n",
              "      <td>0.272799</td>\n",
              "      <td>2.030142e-02</td>\n",
              "    </tr>\n",
              "    <tr>\n",
              "      <th>1</th>\n",
              "      <td>Deimos</td>\n",
              "      <td>Mars</td>\n",
              "      <td>9270</td>\n",
              "      <td>20</td>\n",
              "      <td>6779</td>\n",
              "      <td>2.281368e+08</td>\n",
              "      <td>1.525</td>\n",
              "      <td>4.188790e+03</td>\n",
              "      <td>1.631156e+11</td>\n",
              "      <td>0.002950</td>\n",
              "      <td>2.567989e-08</td>\n",
              "    </tr>\n",
              "    <tr>\n",
              "      <th>2</th>\n",
              "      <td>Phobos</td>\n",
              "      <td>Mars</td>\n",
              "      <td>23460</td>\n",
              "      <td>8</td>\n",
              "      <td>6779</td>\n",
              "      <td>2.281368e+08</td>\n",
              "      <td>1.525</td>\n",
              "      <td>2.680826e+02</td>\n",
              "      <td>1.631156e+11</td>\n",
              "      <td>0.001180</td>\n",
              "      <td>1.643513e-09</td>\n",
              "    </tr>\n",
              "    <tr>\n",
              "      <th>3</th>\n",
              "      <td>Callisto</td>\n",
              "      <td>Jupiter</td>\n",
              "      <td>1883000</td>\n",
              "      <td>4800</td>\n",
              "      <td>139822</td>\n",
              "      <td>7.786569e+08</td>\n",
              "      <td>5.205</td>\n",
              "      <td>5.790584e+10</td>\n",
              "      <td>1.431282e+15</td>\n",
              "      <td>0.034329</td>\n",
              "      <td>4.045733e-05</td>\n",
              "    </tr>\n",
              "    <tr>\n",
              "      <th>4</th>\n",
              "      <td>Europa</td>\n",
              "      <td>Jupiter</td>\n",
              "      <td>670900</td>\n",
              "      <td>3126</td>\n",
              "      <td>139822</td>\n",
              "      <td>7.786569e+08</td>\n",
              "      <td>5.205</td>\n",
              "      <td>1.599431e+10</td>\n",
              "      <td>1.431282e+15</td>\n",
              "      <td>0.022357</td>\n",
              "      <td>1.117482e-05</td>\n",
              "    </tr>\n",
              "    <tr>\n",
              "      <th>5</th>\n",
              "      <td>Ganymede</td>\n",
              "      <td>Jupiter</td>\n",
              "      <td>1070000</td>\n",
              "      <td>5276</td>\n",
              "      <td>139822</td>\n",
              "      <td>7.786569e+08</td>\n",
              "      <td>5.205</td>\n",
              "      <td>7.689763e+10</td>\n",
              "      <td>1.431282e+15</td>\n",
              "      <td>0.037734</td>\n",
              "      <td>5.372641e-05</td>\n",
              "    </tr>\n",
              "    <tr>\n",
              "      <th>6</th>\n",
              "      <td>Io</td>\n",
              "      <td>Jupiter</td>\n",
              "      <td>421600</td>\n",
              "      <td>3629</td>\n",
              "      <td>139822</td>\n",
              "      <td>7.786569e+08</td>\n",
              "      <td>5.205</td>\n",
              "      <td>2.502416e+10</td>\n",
              "      <td>1.431282e+15</td>\n",
              "      <td>0.025954</td>\n",
              "      <td>1.748374e-05</td>\n",
              "    </tr>\n",
              "    <tr>\n",
              "      <th>7</th>\n",
              "      <td>Dione</td>\n",
              "      <td>Saturn</td>\n",
              "      <td>377400</td>\n",
              "      <td>1120</td>\n",
              "      <td>116464</td>\n",
              "      <td>1.427912e+09</td>\n",
              "      <td>9.545</td>\n",
              "      <td>7.356186e+08</td>\n",
              "      <td>8.271299e+14</td>\n",
              "      <td>0.009617</td>\n",
              "      <td>8.893628e-07</td>\n",
              "    </tr>\n",
              "    <tr>\n",
              "      <th>8</th>\n",
              "      <td>Enceladus</td>\n",
              "      <td>Saturn</td>\n",
              "      <td>238020</td>\n",
              "      <td>498</td>\n",
              "      <td>116464</td>\n",
              "      <td>1.427912e+09</td>\n",
              "      <td>9.545</td>\n",
              "      <td>6.466759e+07</td>\n",
              "      <td>8.271299e+14</td>\n",
              "      <td>0.004276</td>\n",
              "      <td>7.818311e-08</td>\n",
              "    </tr>\n",
              "    <tr>\n",
              "      <th>9</th>\n",
              "      <td>Hyperion</td>\n",
              "      <td>Saturn</td>\n",
              "      <td>1481000</td>\n",
              "      <td>226</td>\n",
              "      <td>116464</td>\n",
              "      <td>1.427912e+09</td>\n",
              "      <td>9.545</td>\n",
              "      <td>6.043993e+06</td>\n",
              "      <td>8.271299e+14</td>\n",
              "      <td>0.001941</td>\n",
              "      <td>7.307187e-09</td>\n",
              "    </tr>\n",
              "    <tr>\n",
              "      <th>10</th>\n",
              "      <td>Iapetus</td>\n",
              "      <td>Saturn</td>\n",
              "      <td>3561300</td>\n",
              "      <td>1436</td>\n",
              "      <td>116464</td>\n",
              "      <td>1.427912e+09</td>\n",
              "      <td>9.545</td>\n",
              "      <td>1.550465e+09</td>\n",
              "      <td>8.271299e+14</td>\n",
              "      <td>0.012330</td>\n",
              "      <td>1.874512e-06</td>\n",
              "    </tr>\n",
              "    <tr>\n",
              "      <th>11</th>\n",
              "      <td>Mimas</td>\n",
              "      <td>Saturn</td>\n",
              "      <td>185520</td>\n",
              "      <td>398</td>\n",
              "      <td>116464</td>\n",
              "      <td>1.427912e+09</td>\n",
              "      <td>9.545</td>\n",
              "      <td>3.301018e+07</td>\n",
              "      <td>8.271299e+14</td>\n",
              "      <td>0.003417</td>\n",
              "      <td>3.990930e-08</td>\n",
              "    </tr>\n",
              "    <tr>\n",
              "      <th>12</th>\n",
              "      <td>Phoebe</td>\n",
              "      <td>Saturn</td>\n",
              "      <td>12952000</td>\n",
              "      <td>220</td>\n",
              "      <td>116464</td>\n",
              "      <td>1.427912e+09</td>\n",
              "      <td>9.545</td>\n",
              "      <td>5.575280e+06</td>\n",
              "      <td>8.271299e+14</td>\n",
              "      <td>0.001889</td>\n",
              "      <td>6.740513e-09</td>\n",
              "    </tr>\n",
              "    <tr>\n",
              "      <th>13</th>\n",
              "      <td>Rhea</td>\n",
              "      <td>Saturn</td>\n",
              "      <td>527040</td>\n",
              "      <td>1528</td>\n",
              "      <td>116464</td>\n",
              "      <td>1.427912e+09</td>\n",
              "      <td>9.545</td>\n",
              "      <td>1.867965e+09</td>\n",
              "      <td>8.271299e+14</td>\n",
              "      <td>0.013120</td>\n",
              "      <td>2.258369e-06</td>\n",
              "    </tr>\n",
              "    <tr>\n",
              "      <th>14</th>\n",
              "      <td>Tethys</td>\n",
              "      <td>Saturn</td>\n",
              "      <td>294660</td>\n",
              "      <td>1060</td>\n",
              "      <td>116464</td>\n",
              "      <td>1.427912e+09</td>\n",
              "      <td>9.545</td>\n",
              "      <td>6.236145e+08</td>\n",
              "      <td>8.271299e+14</td>\n",
              "      <td>0.009102</td>\n",
              "      <td>7.539499e-07</td>\n",
              "    </tr>\n",
              "    <tr>\n",
              "      <th>15</th>\n",
              "      <td>Titan</td>\n",
              "      <td>Saturn</td>\n",
              "      <td>1221850</td>\n",
              "      <td>5150</td>\n",
              "      <td>116464</td>\n",
              "      <td>1.427912e+09</td>\n",
              "      <td>9.545</td>\n",
              "      <td>7.151881e+10</td>\n",
              "      <td>8.271299e+14</td>\n",
              "      <td>0.044220</td>\n",
              "      <td>8.646624e-05</td>\n",
              "    </tr>\n",
              "    <tr>\n",
              "      <th>16</th>\n",
              "      <td>Ariel</td>\n",
              "      <td>Uranus</td>\n",
              "      <td>191240</td>\n",
              "      <td>1160</td>\n",
              "      <td>50724</td>\n",
              "      <td>2.872279e+09</td>\n",
              "      <td>19.200</td>\n",
              "      <td>8.172832e+08</td>\n",
              "      <td>6.833436e+13</td>\n",
              "      <td>0.022869</td>\n",
              "      <td>1.196006e-05</td>\n",
              "    </tr>\n",
              "    <tr>\n",
              "      <th>17</th>\n",
              "      <td>Miranda</td>\n",
              "      <td>Uranus</td>\n",
              "      <td>129780</td>\n",
              "      <td>472</td>\n",
              "      <td>50724</td>\n",
              "      <td>2.872279e+09</td>\n",
              "      <td>19.200</td>\n",
              "      <td>5.505853e+07</td>\n",
              "      <td>6.833436e+13</td>\n",
              "      <td>0.009305</td>\n",
              "      <td>8.057225e-07</td>\n",
              "    </tr>\n",
              "    <tr>\n",
              "      <th>18</th>\n",
              "      <td>Oberon</td>\n",
              "      <td>Uranus</td>\n",
              "      <td>582600</td>\n",
              "      <td>1526</td>\n",
              "      <td>50724</td>\n",
              "      <td>2.872279e+09</td>\n",
              "      <td>19.200</td>\n",
              "      <td>1.860639e+09</td>\n",
              "      <td>6.833436e+13</td>\n",
              "      <td>0.030084</td>\n",
              "      <td>2.722846e-05</td>\n",
              "    </tr>\n",
              "    <tr>\n",
              "      <th>19</th>\n",
              "      <td>Titania</td>\n",
              "      <td>Uranus</td>\n",
              "      <td>435840</td>\n",
              "      <td>1580</td>\n",
              "      <td>50724</td>\n",
              "      <td>2.872279e+09</td>\n",
              "      <td>19.200</td>\n",
              "      <td>2.065237e+09</td>\n",
              "      <td>6.833436e+13</td>\n",
              "      <td>0.031149</td>\n",
              "      <td>3.022253e-05</td>\n",
              "    </tr>\n",
              "    <tr>\n",
              "      <th>20</th>\n",
              "      <td>Umbriel</td>\n",
              "      <td>Uranus</td>\n",
              "      <td>265970</td>\n",
              "      <td>1190</td>\n",
              "      <td>50724</td>\n",
              "      <td>2.872279e+09</td>\n",
              "      <td>19.200</td>\n",
              "      <td>8.823472e+08</td>\n",
              "      <td>6.833436e+13</td>\n",
              "      <td>0.023460</td>\n",
              "      <td>1.291220e-05</td>\n",
              "    </tr>\n",
              "    <tr>\n",
              "      <th>21</th>\n",
              "      <td>Nereid</td>\n",
              "      <td>Neptune</td>\n",
              "      <td>5513400</td>\n",
              "      <td>340</td>\n",
              "      <td>49244</td>\n",
              "      <td>4.495416e+09</td>\n",
              "      <td>30.050</td>\n",
              "      <td>2.057953e+07</td>\n",
              "      <td>6.252570e+13</td>\n",
              "      <td>0.006904</td>\n",
              "      <td>3.291371e-07</td>\n",
              "    </tr>\n",
              "    <tr>\n",
              "      <th>22</th>\n",
              "      <td>Triton</td>\n",
              "      <td>Neptune</td>\n",
              "      <td>354800</td>\n",
              "      <td>2705</td>\n",
              "      <td>49244</td>\n",
              "      <td>4.495416e+09</td>\n",
              "      <td>30.050</td>\n",
              "      <td>1.036336e+10</td>\n",
              "      <td>6.252570e+13</td>\n",
              "      <td>0.054931</td>\n",
              "      <td>1.657455e-04</td>\n",
              "    </tr>\n",
              "  </tbody>\n",
              "</table>\n",
              "</div>"
            ],
            "text/plain": [
              "    moon_name  ... moon_planet_relative_volume\n",
              "0        Moon  ...                2.030142e-02\n",
              "1      Deimos  ...                2.567989e-08\n",
              "2      Phobos  ...                1.643513e-09\n",
              "3    Callisto  ...                4.045733e-05\n",
              "4      Europa  ...                1.117482e-05\n",
              "5    Ganymede  ...                5.372641e-05\n",
              "6          Io  ...                1.748374e-05\n",
              "7       Dione  ...                8.893628e-07\n",
              "8   Enceladus  ...                7.818311e-08\n",
              "9    Hyperion  ...                7.307187e-09\n",
              "10    Iapetus  ...                1.874512e-06\n",
              "11      Mimas  ...                3.990930e-08\n",
              "12     Phoebe  ...                6.740513e-09\n",
              "13       Rhea  ...                2.258369e-06\n",
              "14     Tethys  ...                7.539499e-07\n",
              "15      Titan  ...                8.646624e-05\n",
              "16      Ariel  ...                1.196006e-05\n",
              "17    Miranda  ...                8.057225e-07\n",
              "18     Oberon  ...                2.722846e-05\n",
              "19    Titania  ...                3.022253e-05\n",
              "20    Umbriel  ...                1.291220e-05\n",
              "21     Nereid  ...                3.291371e-07\n",
              "22     Triton  ...                1.657455e-04\n",
              "\n",
              "[23 rows x 11 columns]"
            ]
          },
          "metadata": {
            "tags": []
          },
          "execution_count": 55
        }
      ]
    },
    {
      "cell_type": "code",
      "metadata": {
        "id": "UOj0VzbZFTnZ",
        "colab_type": "code",
        "colab": {
          "base_uri": "https://localhost:8080/",
          "height": 34
        },
        "outputId": "2cfafb9e-8867-410b-e35f-a9930ed9f0d1"
      },
      "source": [
        "#IF WE WANT to see outlier positon and its number\n",
        "df_solar.moon_planet_relative_diameter.max()"
      ],
      "execution_count": 56,
      "outputs": [
        {
          "output_type": "execute_result",
          "data": {
            "text/plain": [
              "0.27279861874117095"
            ]
          },
          "metadata": {
            "tags": []
          },
          "execution_count": 56
        }
      ]
    },
    {
      "cell_type": "code",
      "metadata": {
        "id": "mNjip7bbFTna",
        "colab_type": "code",
        "colab": {
          "base_uri": "https://localhost:8080/",
          "height": 34
        },
        "outputId": "a68341e0-56e7-47ab-f1d0-374b2f192017"
      },
      "source": [
        "df_solar.moon_planet_relative_diameter.idxmax()"
      ],
      "execution_count": 57,
      "outputs": [
        {
          "output_type": "execute_result",
          "data": {
            "text/plain": [
              "0"
            ]
          },
          "metadata": {
            "tags": []
          },
          "execution_count": 57
        }
      ]
    },
    {
      "cell_type": "code",
      "metadata": {
        "id": "MywasQHfFTnb",
        "colab_type": "code",
        "colab": {
          "base_uri": "https://localhost:8080/",
          "height": 34
        },
        "outputId": "1a755264-7d5e-45d4-8e36-2e641d92279e"
      },
      "source": [
        "# print outliers from the dataset - relative volume (higher alpha)\n",
        "grubbs.max_test_outliers(df_solar.moon_planet_relative_volume, alpha=0.000005)"
      ],
      "execution_count": 58,
      "outputs": [
        {
          "output_type": "execute_result",
          "data": {
            "text/plain": [
              "[0.02030142397437823]"
            ]
          },
          "metadata": {
            "tags": []
          },
          "execution_count": 58
        }
      ]
    },
    {
      "cell_type": "code",
      "metadata": {
        "id": "rJ6Rjq6FFTnc",
        "colab_type": "code",
        "colab": {
          "base_uri": "https://localhost:8080/",
          "height": 425
        },
        "outputId": "664b260c-4f47-4a64-927b-f690e70a7309"
      },
      "source": [
        "# remove outliers - relative volume (higher alpha)\n",
        "moon_planet_rel_vol_no_outliers = grubbs.test(df_solar.moon_planet_relative_volume, alpha=0.000005)\n",
        "moon_planet_rel_vol_no_outliers"
      ],
      "execution_count": 59,
      "outputs": [
        {
          "output_type": "execute_result",
          "data": {
            "text/plain": [
              "1     2.567989e-08\n",
              "2     1.643513e-09\n",
              "3     4.045733e-05\n",
              "4     1.117482e-05\n",
              "5     5.372641e-05\n",
              "6     1.748374e-05\n",
              "7     8.893628e-07\n",
              "8     7.818311e-08\n",
              "9     7.307187e-09\n",
              "10    1.874512e-06\n",
              "11    3.990930e-08\n",
              "12    6.740513e-09\n",
              "13    2.258369e-06\n",
              "14    7.539499e-07\n",
              "15    8.646624e-05\n",
              "16    1.196006e-05\n",
              "17    8.057225e-07\n",
              "18    2.722846e-05\n",
              "19    3.022253e-05\n",
              "20    1.291220e-05\n",
              "21    3.291371e-07\n",
              "22    1.657455e-04\n",
              "Name: moon_planet_relative_volume, dtype: float64"
            ]
          },
          "metadata": {
            "tags": []
          },
          "execution_count": 59
        }
      ]
    }
  ]
}